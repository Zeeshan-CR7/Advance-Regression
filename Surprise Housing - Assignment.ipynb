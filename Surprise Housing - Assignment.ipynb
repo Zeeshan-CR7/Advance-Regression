{
 "cells": [
  {
   "cell_type": "markdown",
   "id": "e2afb1c0",
   "metadata": {},
   "source": [
    "## Assignment: Advanced Regression\n",
    "A US-based housing company named Surprise Housing has decided to enter the Australian market. The company uses data analytics to purchase houses at a price below their actual values and flip them on at a higher price. For the same purpose, the company has collected a data set from the sale of houses in Australia.\n",
    "\n",
    "The company is looking at prospective properties to buy to enter the market. We are required to build a regression model using regularisation in order to predict the actual value of the prospective properties and decide whether to invest in them or not.\n"
   ]
  },
  {
   "cell_type": "code",
   "execution_count": 1,
   "id": "ed51509c",
   "metadata": {
    "ExecuteTime": {
     "end_time": "2022-08-31T17:50:05.959687Z",
     "start_time": "2022-08-31T17:50:00.998590Z"
    }
   },
   "outputs": [],
   "source": [
    "# Importing libraries\n",
    "import numpy as np\n",
    "import pandas as pd\n",
    "import matplotlib.pyplot as plt\n",
    "import seaborn as sns\n",
    "import warnings\n",
    "warnings.filterwarnings('ignore')\n",
    "from sklearn.model_selection import train_test_split\n",
    "from sklearn.preprocessing import StandardScaler\n",
    "from sklearn.linear_model import LinearRegression\n",
    "from sklearn.feature_selection import RFE\n",
    "import statsmodels.api as sm\n",
    "from sklearn.metrics import r2_score, mean_absolute_error, mean_squared_error\n",
    "from sklearn.linear_model import Ridge\n",
    "from sklearn.linear_model import Lasso\n",
    "from sklearn.model_selection import GridSearchCV"
   ]
  },
  {
   "cell_type": "code",
   "execution_count": 2,
   "id": "dfadada8",
   "metadata": {
    "ExecuteTime": {
     "end_time": "2022-08-31T17:50:06.211734Z",
     "start_time": "2022-08-31T17:50:05.962974Z"
    }
   },
   "outputs": [
    {
     "data": {
      "text/html": [
       "<div>\n",
       "<style scoped>\n",
       "    .dataframe tbody tr th:only-of-type {\n",
       "        vertical-align: middle;\n",
       "    }\n",
       "\n",
       "    .dataframe tbody tr th {\n",
       "        vertical-align: top;\n",
       "    }\n",
       "\n",
       "    .dataframe thead th {\n",
       "        text-align: right;\n",
       "    }\n",
       "</style>\n",
       "<table border=\"1\" class=\"dataframe\">\n",
       "  <thead>\n",
       "    <tr style=\"text-align: right;\">\n",
       "      <th></th>\n",
       "      <th>Id</th>\n",
       "      <th>MSSubClass</th>\n",
       "      <th>MSZoning</th>\n",
       "      <th>LotFrontage</th>\n",
       "      <th>LotArea</th>\n",
       "      <th>Street</th>\n",
       "      <th>Alley</th>\n",
       "      <th>LotShape</th>\n",
       "      <th>LandContour</th>\n",
       "      <th>Utilities</th>\n",
       "      <th>...</th>\n",
       "      <th>PoolArea</th>\n",
       "      <th>PoolQC</th>\n",
       "      <th>Fence</th>\n",
       "      <th>MiscFeature</th>\n",
       "      <th>MiscVal</th>\n",
       "      <th>MoSold</th>\n",
       "      <th>YrSold</th>\n",
       "      <th>SaleType</th>\n",
       "      <th>SaleCondition</th>\n",
       "      <th>SalePrice</th>\n",
       "    </tr>\n",
       "  </thead>\n",
       "  <tbody>\n",
       "    <tr>\n",
       "      <th>0</th>\n",
       "      <td>1</td>\n",
       "      <td>60</td>\n",
       "      <td>RL</td>\n",
       "      <td>65.0</td>\n",
       "      <td>8450</td>\n",
       "      <td>Pave</td>\n",
       "      <td>NaN</td>\n",
       "      <td>Reg</td>\n",
       "      <td>Lvl</td>\n",
       "      <td>AllPub</td>\n",
       "      <td>...</td>\n",
       "      <td>0</td>\n",
       "      <td>NaN</td>\n",
       "      <td>NaN</td>\n",
       "      <td>NaN</td>\n",
       "      <td>0</td>\n",
       "      <td>2</td>\n",
       "      <td>2008</td>\n",
       "      <td>WD</td>\n",
       "      <td>Normal</td>\n",
       "      <td>208500</td>\n",
       "    </tr>\n",
       "    <tr>\n",
       "      <th>1</th>\n",
       "      <td>2</td>\n",
       "      <td>20</td>\n",
       "      <td>RL</td>\n",
       "      <td>80.0</td>\n",
       "      <td>9600</td>\n",
       "      <td>Pave</td>\n",
       "      <td>NaN</td>\n",
       "      <td>Reg</td>\n",
       "      <td>Lvl</td>\n",
       "      <td>AllPub</td>\n",
       "      <td>...</td>\n",
       "      <td>0</td>\n",
       "      <td>NaN</td>\n",
       "      <td>NaN</td>\n",
       "      <td>NaN</td>\n",
       "      <td>0</td>\n",
       "      <td>5</td>\n",
       "      <td>2007</td>\n",
       "      <td>WD</td>\n",
       "      <td>Normal</td>\n",
       "      <td>181500</td>\n",
       "    </tr>\n",
       "    <tr>\n",
       "      <th>2</th>\n",
       "      <td>3</td>\n",
       "      <td>60</td>\n",
       "      <td>RL</td>\n",
       "      <td>68.0</td>\n",
       "      <td>11250</td>\n",
       "      <td>Pave</td>\n",
       "      <td>NaN</td>\n",
       "      <td>IR1</td>\n",
       "      <td>Lvl</td>\n",
       "      <td>AllPub</td>\n",
       "      <td>...</td>\n",
       "      <td>0</td>\n",
       "      <td>NaN</td>\n",
       "      <td>NaN</td>\n",
       "      <td>NaN</td>\n",
       "      <td>0</td>\n",
       "      <td>9</td>\n",
       "      <td>2008</td>\n",
       "      <td>WD</td>\n",
       "      <td>Normal</td>\n",
       "      <td>223500</td>\n",
       "    </tr>\n",
       "    <tr>\n",
       "      <th>3</th>\n",
       "      <td>4</td>\n",
       "      <td>70</td>\n",
       "      <td>RL</td>\n",
       "      <td>60.0</td>\n",
       "      <td>9550</td>\n",
       "      <td>Pave</td>\n",
       "      <td>NaN</td>\n",
       "      <td>IR1</td>\n",
       "      <td>Lvl</td>\n",
       "      <td>AllPub</td>\n",
       "      <td>...</td>\n",
       "      <td>0</td>\n",
       "      <td>NaN</td>\n",
       "      <td>NaN</td>\n",
       "      <td>NaN</td>\n",
       "      <td>0</td>\n",
       "      <td>2</td>\n",
       "      <td>2006</td>\n",
       "      <td>WD</td>\n",
       "      <td>Abnorml</td>\n",
       "      <td>140000</td>\n",
       "    </tr>\n",
       "    <tr>\n",
       "      <th>4</th>\n",
       "      <td>5</td>\n",
       "      <td>60</td>\n",
       "      <td>RL</td>\n",
       "      <td>84.0</td>\n",
       "      <td>14260</td>\n",
       "      <td>Pave</td>\n",
       "      <td>NaN</td>\n",
       "      <td>IR1</td>\n",
       "      <td>Lvl</td>\n",
       "      <td>AllPub</td>\n",
       "      <td>...</td>\n",
       "      <td>0</td>\n",
       "      <td>NaN</td>\n",
       "      <td>NaN</td>\n",
       "      <td>NaN</td>\n",
       "      <td>0</td>\n",
       "      <td>12</td>\n",
       "      <td>2008</td>\n",
       "      <td>WD</td>\n",
       "      <td>Normal</td>\n",
       "      <td>250000</td>\n",
       "    </tr>\n",
       "  </tbody>\n",
       "</table>\n",
       "<p>5 rows × 81 columns</p>\n",
       "</div>"
      ],
      "text/plain": [
       "   Id  MSSubClass MSZoning  LotFrontage  LotArea Street Alley LotShape  \\\n",
       "0   1          60       RL         65.0     8450   Pave   NaN      Reg   \n",
       "1   2          20       RL         80.0     9600   Pave   NaN      Reg   \n",
       "2   3          60       RL         68.0    11250   Pave   NaN      IR1   \n",
       "3   4          70       RL         60.0     9550   Pave   NaN      IR1   \n",
       "4   5          60       RL         84.0    14260   Pave   NaN      IR1   \n",
       "\n",
       "  LandContour Utilities  ... PoolArea PoolQC Fence MiscFeature MiscVal MoSold  \\\n",
       "0         Lvl    AllPub  ...        0    NaN   NaN         NaN       0      2   \n",
       "1         Lvl    AllPub  ...        0    NaN   NaN         NaN       0      5   \n",
       "2         Lvl    AllPub  ...        0    NaN   NaN         NaN       0      9   \n",
       "3         Lvl    AllPub  ...        0    NaN   NaN         NaN       0      2   \n",
       "4         Lvl    AllPub  ...        0    NaN   NaN         NaN       0     12   \n",
       "\n",
       "  YrSold  SaleType  SaleCondition  SalePrice  \n",
       "0   2008        WD         Normal     208500  \n",
       "1   2007        WD         Normal     181500  \n",
       "2   2008        WD         Normal     223500  \n",
       "3   2006        WD        Abnorml     140000  \n",
       "4   2008        WD         Normal     250000  \n",
       "\n",
       "[5 rows x 81 columns]"
      ]
     },
     "execution_count": 2,
     "metadata": {},
     "output_type": "execute_result"
    }
   ],
   "source": [
    "# Reading the csv file\n",
    "data = pd.read_csv('train.csv')\n",
    "data.head()"
   ]
  },
  {
   "cell_type": "code",
   "execution_count": 3,
   "id": "e80ad88a",
   "metadata": {
    "ExecuteTime": {
     "end_time": "2022-08-31T17:50:06.236040Z",
     "start_time": "2022-08-31T17:50:06.217112Z"
    }
   },
   "outputs": [
    {
     "data": {
      "text/plain": [
       "(1460, 81)"
      ]
     },
     "execution_count": 3,
     "metadata": {},
     "output_type": "execute_result"
    }
   ],
   "source": [
    "# Checking the shape of the data\n",
    "data.shape"
   ]
  },
  {
   "cell_type": "code",
   "execution_count": 4,
   "id": "02efdb4a",
   "metadata": {
    "ExecuteTime": {
     "end_time": "2022-08-31T17:50:06.300871Z",
     "start_time": "2022-08-31T17:50:06.240190Z"
    }
   },
   "outputs": [
    {
     "name": "stdout",
     "output_type": "stream",
     "text": [
      "<class 'pandas.core.frame.DataFrame'>\n",
      "RangeIndex: 1460 entries, 0 to 1459\n",
      "Data columns (total 81 columns):\n",
      " #   Column         Non-Null Count  Dtype  \n",
      "---  ------         --------------  -----  \n",
      " 0   Id             1460 non-null   int64  \n",
      " 1   MSSubClass     1460 non-null   int64  \n",
      " 2   MSZoning       1460 non-null   object \n",
      " 3   LotFrontage    1201 non-null   float64\n",
      " 4   LotArea        1460 non-null   int64  \n",
      " 5   Street         1460 non-null   object \n",
      " 6   Alley          91 non-null     object \n",
      " 7   LotShape       1460 non-null   object \n",
      " 8   LandContour    1460 non-null   object \n",
      " 9   Utilities      1460 non-null   object \n",
      " 10  LotConfig      1460 non-null   object \n",
      " 11  LandSlope      1460 non-null   object \n",
      " 12  Neighborhood   1460 non-null   object \n",
      " 13  Condition1     1460 non-null   object \n",
      " 14  Condition2     1460 non-null   object \n",
      " 15  BldgType       1460 non-null   object \n",
      " 16  HouseStyle     1460 non-null   object \n",
      " 17  OverallQual    1460 non-null   int64  \n",
      " 18  OverallCond    1460 non-null   int64  \n",
      " 19  YearBuilt      1460 non-null   int64  \n",
      " 20  YearRemodAdd   1460 non-null   int64  \n",
      " 21  RoofStyle      1460 non-null   object \n",
      " 22  RoofMatl       1460 non-null   object \n",
      " 23  Exterior1st    1460 non-null   object \n",
      " 24  Exterior2nd    1460 non-null   object \n",
      " 25  MasVnrType     1452 non-null   object \n",
      " 26  MasVnrArea     1452 non-null   float64\n",
      " 27  ExterQual      1460 non-null   object \n",
      " 28  ExterCond      1460 non-null   object \n",
      " 29  Foundation     1460 non-null   object \n",
      " 30  BsmtQual       1423 non-null   object \n",
      " 31  BsmtCond       1423 non-null   object \n",
      " 32  BsmtExposure   1422 non-null   object \n",
      " 33  BsmtFinType1   1423 non-null   object \n",
      " 34  BsmtFinSF1     1460 non-null   int64  \n",
      " 35  BsmtFinType2   1422 non-null   object \n",
      " 36  BsmtFinSF2     1460 non-null   int64  \n",
      " 37  BsmtUnfSF      1460 non-null   int64  \n",
      " 38  TotalBsmtSF    1460 non-null   int64  \n",
      " 39  Heating        1460 non-null   object \n",
      " 40  HeatingQC      1460 non-null   object \n",
      " 41  CentralAir     1460 non-null   object \n",
      " 42  Electrical     1459 non-null   object \n",
      " 43  1stFlrSF       1460 non-null   int64  \n",
      " 44  2ndFlrSF       1460 non-null   int64  \n",
      " 45  LowQualFinSF   1460 non-null   int64  \n",
      " 46  GrLivArea      1460 non-null   int64  \n",
      " 47  BsmtFullBath   1460 non-null   int64  \n",
      " 48  BsmtHalfBath   1460 non-null   int64  \n",
      " 49  FullBath       1460 non-null   int64  \n",
      " 50  HalfBath       1460 non-null   int64  \n",
      " 51  BedroomAbvGr   1460 non-null   int64  \n",
      " 52  KitchenAbvGr   1460 non-null   int64  \n",
      " 53  KitchenQual    1460 non-null   object \n",
      " 54  TotRmsAbvGrd   1460 non-null   int64  \n",
      " 55  Functional     1460 non-null   object \n",
      " 56  Fireplaces     1460 non-null   int64  \n",
      " 57  FireplaceQu    770 non-null    object \n",
      " 58  GarageType     1379 non-null   object \n",
      " 59  GarageYrBlt    1379 non-null   float64\n",
      " 60  GarageFinish   1379 non-null   object \n",
      " 61  GarageCars     1460 non-null   int64  \n",
      " 62  GarageArea     1460 non-null   int64  \n",
      " 63  GarageQual     1379 non-null   object \n",
      " 64  GarageCond     1379 non-null   object \n",
      " 65  PavedDrive     1460 non-null   object \n",
      " 66  WoodDeckSF     1460 non-null   int64  \n",
      " 67  OpenPorchSF    1460 non-null   int64  \n",
      " 68  EnclosedPorch  1460 non-null   int64  \n",
      " 69  3SsnPorch      1460 non-null   int64  \n",
      " 70  ScreenPorch    1460 non-null   int64  \n",
      " 71  PoolArea       1460 non-null   int64  \n",
      " 72  PoolQC         7 non-null      object \n",
      " 73  Fence          281 non-null    object \n",
      " 74  MiscFeature    54 non-null     object \n",
      " 75  MiscVal        1460 non-null   int64  \n",
      " 76  MoSold         1460 non-null   int64  \n",
      " 77  YrSold         1460 non-null   int64  \n",
      " 78  SaleType       1460 non-null   object \n",
      " 79  SaleCondition  1460 non-null   object \n",
      " 80  SalePrice      1460 non-null   int64  \n",
      "dtypes: float64(3), int64(35), object(43)\n",
      "memory usage: 924.0+ KB\n"
     ]
    }
   ],
   "source": [
    "# Checking Data types of each columns\n",
    "data.info()"
   ]
  },
  {
   "cell_type": "code",
   "execution_count": 5,
   "id": "1c1ddf9d",
   "metadata": {
    "ExecuteTime": {
     "end_time": "2022-08-31T17:50:06.373980Z",
     "start_time": "2022-08-31T17:50:06.304681Z"
    }
   },
   "outputs": [
    {
     "data": {
      "text/plain": [
       "(1460, 81)"
      ]
     },
     "execution_count": 5,
     "metadata": {},
     "output_type": "execute_result"
    }
   ],
   "source": [
    "# Dropping the duplicates if any\n",
    "data.drop_duplicates(inplace=True)\n",
    "data.shape"
   ]
  },
  {
   "cell_type": "code",
   "execution_count": 6,
   "id": "ab5821aa",
   "metadata": {
    "ExecuteTime": {
     "end_time": "2022-08-31T17:50:06.474886Z",
     "start_time": "2022-08-31T17:50:06.377046Z"
    }
   },
   "outputs": [
    {
     "data": {
      "text/html": [
       "<div>\n",
       "<style scoped>\n",
       "    .dataframe tbody tr th:only-of-type {\n",
       "        vertical-align: middle;\n",
       "    }\n",
       "\n",
       "    .dataframe tbody tr th {\n",
       "        vertical-align: top;\n",
       "    }\n",
       "\n",
       "    .dataframe thead th {\n",
       "        text-align: right;\n",
       "    }\n",
       "</style>\n",
       "<table border=\"1\" class=\"dataframe\">\n",
       "  <thead>\n",
       "    <tr style=\"text-align: right;\">\n",
       "      <th></th>\n",
       "      <th>No_null_val</th>\n",
       "      <th>Perc_null_val</th>\n",
       "    </tr>\n",
       "  </thead>\n",
       "  <tbody>\n",
       "    <tr>\n",
       "      <th>Electrical</th>\n",
       "      <td>1</td>\n",
       "      <td>0.0</td>\n",
       "    </tr>\n",
       "    <tr>\n",
       "      <th>MasVnrType</th>\n",
       "      <td>8</td>\n",
       "      <td>1.0</td>\n",
       "    </tr>\n",
       "    <tr>\n",
       "      <th>MasVnrArea</th>\n",
       "      <td>8</td>\n",
       "      <td>1.0</td>\n",
       "    </tr>\n",
       "    <tr>\n",
       "      <th>BsmtQual</th>\n",
       "      <td>37</td>\n",
       "      <td>3.0</td>\n",
       "    </tr>\n",
       "    <tr>\n",
       "      <th>BsmtCond</th>\n",
       "      <td>37</td>\n",
       "      <td>3.0</td>\n",
       "    </tr>\n",
       "    <tr>\n",
       "      <th>BsmtFinType1</th>\n",
       "      <td>37</td>\n",
       "      <td>3.0</td>\n",
       "    </tr>\n",
       "    <tr>\n",
       "      <th>BsmtFinType2</th>\n",
       "      <td>38</td>\n",
       "      <td>3.0</td>\n",
       "    </tr>\n",
       "    <tr>\n",
       "      <th>BsmtExposure</th>\n",
       "      <td>38</td>\n",
       "      <td>3.0</td>\n",
       "    </tr>\n",
       "    <tr>\n",
       "      <th>GarageQual</th>\n",
       "      <td>81</td>\n",
       "      <td>6.0</td>\n",
       "    </tr>\n",
       "    <tr>\n",
       "      <th>GarageFinish</th>\n",
       "      <td>81</td>\n",
       "      <td>6.0</td>\n",
       "    </tr>\n",
       "    <tr>\n",
       "      <th>GarageYrBlt</th>\n",
       "      <td>81</td>\n",
       "      <td>6.0</td>\n",
       "    </tr>\n",
       "    <tr>\n",
       "      <th>GarageType</th>\n",
       "      <td>81</td>\n",
       "      <td>6.0</td>\n",
       "    </tr>\n",
       "    <tr>\n",
       "      <th>GarageCond</th>\n",
       "      <td>81</td>\n",
       "      <td>6.0</td>\n",
       "    </tr>\n",
       "    <tr>\n",
       "      <th>LotFrontage</th>\n",
       "      <td>259</td>\n",
       "      <td>18.0</td>\n",
       "    </tr>\n",
       "    <tr>\n",
       "      <th>FireplaceQu</th>\n",
       "      <td>690</td>\n",
       "      <td>47.0</td>\n",
       "    </tr>\n",
       "    <tr>\n",
       "      <th>Fence</th>\n",
       "      <td>1179</td>\n",
       "      <td>81.0</td>\n",
       "    </tr>\n",
       "    <tr>\n",
       "      <th>Alley</th>\n",
       "      <td>1369</td>\n",
       "      <td>94.0</td>\n",
       "    </tr>\n",
       "    <tr>\n",
       "      <th>MiscFeature</th>\n",
       "      <td>1406</td>\n",
       "      <td>96.0</td>\n",
       "    </tr>\n",
       "    <tr>\n",
       "      <th>PoolQC</th>\n",
       "      <td>1453</td>\n",
       "      <td>100.0</td>\n",
       "    </tr>\n",
       "  </tbody>\n",
       "</table>\n",
       "</div>"
      ],
      "text/plain": [
       "              No_null_val  Perc_null_val\n",
       "Electrical              1            0.0\n",
       "MasVnrType              8            1.0\n",
       "MasVnrArea              8            1.0\n",
       "BsmtQual               37            3.0\n",
       "BsmtCond               37            3.0\n",
       "BsmtFinType1           37            3.0\n",
       "BsmtFinType2           38            3.0\n",
       "BsmtExposure           38            3.0\n",
       "GarageQual             81            6.0\n",
       "GarageFinish           81            6.0\n",
       "GarageYrBlt            81            6.0\n",
       "GarageType             81            6.0\n",
       "GarageCond             81            6.0\n",
       "LotFrontage           259           18.0\n",
       "FireplaceQu           690           47.0\n",
       "Fence                1179           81.0\n",
       "Alley                1369           94.0\n",
       "MiscFeature          1406           96.0\n",
       "PoolQC               1453          100.0"
      ]
     },
     "execution_count": 6,
     "metadata": {},
     "output_type": "execute_result"
    }
   ],
   "source": [
    "# Checking for columns containing missing values\n",
    "null_val = pd.DataFrame(data.isna().sum().sort_values()[data.isna().sum().sort_values()>0], columns=['No_null_val'])\n",
    "null_val['Perc_null_val'] = round(null_val['No_null_val']/len(data)*100)\n",
    "null_val"
   ]
  },
  {
   "cell_type": "code",
   "execution_count": 7,
   "id": "d2433696",
   "metadata": {
    "ExecuteTime": {
     "end_time": "2022-08-31T17:50:06.524634Z",
     "start_time": "2022-08-31T17:50:06.482500Z"
    }
   },
   "outputs": [
    {
     "data": {
      "text/html": [
       "<div>\n",
       "<style scoped>\n",
       "    .dataframe tbody tr th:only-of-type {\n",
       "        vertical-align: middle;\n",
       "    }\n",
       "\n",
       "    .dataframe tbody tr th {\n",
       "        vertical-align: top;\n",
       "    }\n",
       "\n",
       "    .dataframe thead th {\n",
       "        text-align: right;\n",
       "    }\n",
       "</style>\n",
       "<table border=\"1\" class=\"dataframe\">\n",
       "  <thead>\n",
       "    <tr style=\"text-align: right;\">\n",
       "      <th></th>\n",
       "      <th>No_null_val</th>\n",
       "      <th>Perc_null_val</th>\n",
       "    </tr>\n",
       "  </thead>\n",
       "  <tbody>\n",
       "    <tr>\n",
       "      <th>Electrical</th>\n",
       "      <td>1</td>\n",
       "      <td>0.0</td>\n",
       "    </tr>\n",
       "    <tr>\n",
       "      <th>MasVnrType</th>\n",
       "      <td>8</td>\n",
       "      <td>1.0</td>\n",
       "    </tr>\n",
       "    <tr>\n",
       "      <th>MasVnrArea</th>\n",
       "      <td>8</td>\n",
       "      <td>1.0</td>\n",
       "    </tr>\n",
       "    <tr>\n",
       "      <th>BsmtQual</th>\n",
       "      <td>37</td>\n",
       "      <td>3.0</td>\n",
       "    </tr>\n",
       "    <tr>\n",
       "      <th>BsmtCond</th>\n",
       "      <td>37</td>\n",
       "      <td>3.0</td>\n",
       "    </tr>\n",
       "    <tr>\n",
       "      <th>BsmtFinType1</th>\n",
       "      <td>37</td>\n",
       "      <td>3.0</td>\n",
       "    </tr>\n",
       "    <tr>\n",
       "      <th>BsmtFinType2</th>\n",
       "      <td>38</td>\n",
       "      <td>3.0</td>\n",
       "    </tr>\n",
       "    <tr>\n",
       "      <th>BsmtExposure</th>\n",
       "      <td>38</td>\n",
       "      <td>3.0</td>\n",
       "    </tr>\n",
       "    <tr>\n",
       "      <th>GarageQual</th>\n",
       "      <td>81</td>\n",
       "      <td>6.0</td>\n",
       "    </tr>\n",
       "    <tr>\n",
       "      <th>GarageFinish</th>\n",
       "      <td>81</td>\n",
       "      <td>6.0</td>\n",
       "    </tr>\n",
       "    <tr>\n",
       "      <th>GarageYrBlt</th>\n",
       "      <td>81</td>\n",
       "      <td>6.0</td>\n",
       "    </tr>\n",
       "    <tr>\n",
       "      <th>GarageType</th>\n",
       "      <td>81</td>\n",
       "      <td>6.0</td>\n",
       "    </tr>\n",
       "    <tr>\n",
       "      <th>GarageCond</th>\n",
       "      <td>81</td>\n",
       "      <td>6.0</td>\n",
       "    </tr>\n",
       "    <tr>\n",
       "      <th>LotFrontage</th>\n",
       "      <td>259</td>\n",
       "      <td>18.0</td>\n",
       "    </tr>\n",
       "    <tr>\n",
       "      <th>FireplaceQu</th>\n",
       "      <td>690</td>\n",
       "      <td>47.0</td>\n",
       "    </tr>\n",
       "  </tbody>\n",
       "</table>\n",
       "</div>"
      ],
      "text/plain": [
       "              No_null_val  Perc_null_val\n",
       "Electrical              1            0.0\n",
       "MasVnrType              8            1.0\n",
       "MasVnrArea              8            1.0\n",
       "BsmtQual               37            3.0\n",
       "BsmtCond               37            3.0\n",
       "BsmtFinType1           37            3.0\n",
       "BsmtFinType2           38            3.0\n",
       "BsmtExposure           38            3.0\n",
       "GarageQual             81            6.0\n",
       "GarageFinish           81            6.0\n",
       "GarageYrBlt            81            6.0\n",
       "GarageType             81            6.0\n",
       "GarageCond             81            6.0\n",
       "LotFrontage           259           18.0\n",
       "FireplaceQu           690           47.0"
      ]
     },
     "execution_count": 7,
     "metadata": {},
     "output_type": "execute_result"
    }
   ],
   "source": [
    "# We'll drop the columns with more than 80% of the missing values\n",
    "data.drop(columns=['Fence', 'Alley', 'MiscFeature', 'PoolQC'], inplace=True)\n",
    "null_val = null_val[:len(null_val)-4] # updating the null list to keep a track of it\n",
    "null_val"
   ]
  },
  {
   "cell_type": "code",
   "execution_count": 8,
   "id": "e385cb5c",
   "metadata": {
    "ExecuteTime": {
     "end_time": "2022-08-31T17:50:07.352550Z",
     "start_time": "2022-08-31T17:50:06.530129Z"
    }
   },
   "outputs": [
    {
     "data": {
      "text/plain": [
       "<AxesSubplot:xlabel='MasVnrType', ylabel='count'>"
      ]
     },
     "execution_count": 8,
     "metadata": {},
     "output_type": "execute_result"
    },
    {
     "data": {
      "image/png": "[encoded data removed]",
      "text/plain": [
       "<Figure size 1800x504 with 2 Axes>"
      ]
     },
     "metadata": {
      "needs_background": "light"
     },
     "output_type": "display_data"
    }
   ],
   "source": [
    "plt.figure(figsize=(25, 7))\n",
    "plt.subplot(1,2,1)\n",
    "sns.countplot(data['Electrical'])\n",
    "plt.subplot(1,2,2)\n",
    "sns.countplot(data['MasVnrType'])"
   ]
  },
  {
   "cell_type": "code",
   "execution_count": 9,
   "id": "815adf77",
   "metadata": {
    "ExecuteTime": {
     "end_time": "2022-08-31T17:50:07.385964Z",
     "start_time": "2022-08-31T17:50:07.358767Z"
    }
   },
   "outputs": [],
   "source": [
    "# By going through the data dictonary we shall replacing NAN values with mode as its categorical column\n",
    "data['Electrical'].fillna(data['Electrical'].mode()[0], inplace=True)\n",
    "data['MasVnrType'].fillna(data['MasVnrType'].mode()[0], inplace=True)"
   ]
  },
  {
   "cell_type": "code",
   "execution_count": 10,
   "id": "4e743695",
   "metadata": {
    "ExecuteTime": {
     "end_time": "2022-08-31T17:50:07.442207Z",
     "start_time": "2022-08-31T17:50:07.390812Z"
    }
   },
   "outputs": [
    {
     "data": {
      "text/html": [
       "<div>\n",
       "<style scoped>\n",
       "    .dataframe tbody tr th:only-of-type {\n",
       "        vertical-align: middle;\n",
       "    }\n",
       "\n",
       "    .dataframe tbody tr th {\n",
       "        vertical-align: top;\n",
       "    }\n",
       "\n",
       "    .dataframe thead th {\n",
       "        text-align: right;\n",
       "    }\n",
       "</style>\n",
       "<table border=\"1\" class=\"dataframe\">\n",
       "  <thead>\n",
       "    <tr style=\"text-align: right;\">\n",
       "      <th></th>\n",
       "      <th>No_null_val</th>\n",
       "      <th>Perc_null_val</th>\n",
       "    </tr>\n",
       "  </thead>\n",
       "  <tbody>\n",
       "    <tr>\n",
       "      <th>MasVnrArea</th>\n",
       "      <td>8</td>\n",
       "      <td>1.0</td>\n",
       "    </tr>\n",
       "    <tr>\n",
       "      <th>BsmtQual</th>\n",
       "      <td>37</td>\n",
       "      <td>3.0</td>\n",
       "    </tr>\n",
       "    <tr>\n",
       "      <th>BsmtCond</th>\n",
       "      <td>37</td>\n",
       "      <td>3.0</td>\n",
       "    </tr>\n",
       "    <tr>\n",
       "      <th>BsmtFinType1</th>\n",
       "      <td>37</td>\n",
       "      <td>3.0</td>\n",
       "    </tr>\n",
       "    <tr>\n",
       "      <th>BsmtFinType2</th>\n",
       "      <td>38</td>\n",
       "      <td>3.0</td>\n",
       "    </tr>\n",
       "    <tr>\n",
       "      <th>BsmtExposure</th>\n",
       "      <td>38</td>\n",
       "      <td>3.0</td>\n",
       "    </tr>\n",
       "    <tr>\n",
       "      <th>GarageQual</th>\n",
       "      <td>81</td>\n",
       "      <td>6.0</td>\n",
       "    </tr>\n",
       "    <tr>\n",
       "      <th>GarageFinish</th>\n",
       "      <td>81</td>\n",
       "      <td>6.0</td>\n",
       "    </tr>\n",
       "    <tr>\n",
       "      <th>GarageYrBlt</th>\n",
       "      <td>81</td>\n",
       "      <td>6.0</td>\n",
       "    </tr>\n",
       "    <tr>\n",
       "      <th>GarageType</th>\n",
       "      <td>81</td>\n",
       "      <td>6.0</td>\n",
       "    </tr>\n",
       "    <tr>\n",
       "      <th>GarageCond</th>\n",
       "      <td>81</td>\n",
       "      <td>6.0</td>\n",
       "    </tr>\n",
       "    <tr>\n",
       "      <th>LotFrontage</th>\n",
       "      <td>259</td>\n",
       "      <td>18.0</td>\n",
       "    </tr>\n",
       "    <tr>\n",
       "      <th>FireplaceQu</th>\n",
       "      <td>690</td>\n",
       "      <td>47.0</td>\n",
       "    </tr>\n",
       "  </tbody>\n",
       "</table>\n",
       "</div>"
      ],
      "text/plain": [
       "              No_null_val  Perc_null_val\n",
       "MasVnrArea              8            1.0\n",
       "BsmtQual               37            3.0\n",
       "BsmtCond               37            3.0\n",
       "BsmtFinType1           37            3.0\n",
       "BsmtFinType2           38            3.0\n",
       "BsmtExposure           38            3.0\n",
       "GarageQual             81            6.0\n",
       "GarageFinish           81            6.0\n",
       "GarageYrBlt            81            6.0\n",
       "GarageType             81            6.0\n",
       "GarageCond             81            6.0\n",
       "LotFrontage           259           18.0\n",
       "FireplaceQu           690           47.0"
      ]
     },
     "execution_count": 10,
     "metadata": {},
     "output_type": "execute_result"
    }
   ],
   "source": [
    "# Updating the null list to keep a track of it\n",
    "null_val = null_val[2:] \n",
    "null_val"
   ]
  },
  {
   "cell_type": "code",
   "execution_count": 11,
   "id": "f2ab158d",
   "metadata": {
    "ExecuteTime": {
     "end_time": "2022-08-31T17:50:07.482833Z",
     "start_time": "2022-08-31T17:50:07.449331Z"
    }
   },
   "outputs": [
    {
     "data": {
      "text/plain": [
       "Index(['MasVnrArea', 'BsmtQual', 'BsmtCond', 'BsmtFinType1', 'BsmtFinType2',\n",
       "       'BsmtExposure', 'GarageQual', 'GarageFinish', 'GarageYrBlt',\n",
       "       'GarageType', 'GarageCond', 'LotFrontage', 'FireplaceQu'],\n",
       "      dtype='object')"
      ]
     },
     "execution_count": 11,
     "metadata": {},
     "output_type": "execute_result"
    }
   ],
   "source": [
    "# Getting all the column names \n",
    "null_val.index"
   ]
  },
  {
   "cell_type": "code",
   "execution_count": 12,
   "id": "e241d136",
   "metadata": {
    "ExecuteTime": {
     "end_time": "2022-08-31T17:50:07.507563Z",
     "start_time": "2022-08-31T17:50:07.487658Z"
    }
   },
   "outputs": [],
   "source": [
    "cols = ['MasVnrArea', 'BsmtQual', 'BsmtCond', 'BsmtFinType1', 'BsmtFinType2',\n",
    "       'BsmtExposure', 'GarageQual', 'GarageFinish', 'GarageYrBlt',\n",
    "       'GarageType', 'GarageCond', 'LotFrontage', 'FireplaceQu']"
   ]
  },
  {
   "cell_type": "code",
   "execution_count": 13,
   "id": "5d320afb",
   "metadata": {
    "ExecuteTime": {
     "end_time": "2022-08-31T17:50:07.530901Z",
     "start_time": "2022-08-31T17:50:07.511560Z"
    }
   },
   "outputs": [
    {
     "name": "stdout",
     "output_type": "stream",
     "text": [
      "MasVnrArea\n",
      "GarageYrBlt\n",
      "LotFrontage\n"
     ]
    }
   ],
   "source": [
    "# Checking for Numerical columns to impute missing values\n",
    "for i in cols:\n",
    "    if data[i].dtype == 'float64' or data[i].dtype == 'int64':\n",
    "        print(i)"
   ]
  },
  {
   "cell_type": "code",
   "execution_count": 14,
   "id": "265f3d04",
   "metadata": {
    "ExecuteTime": {
     "end_time": "2022-08-31T17:50:08.964951Z",
     "start_time": "2022-08-31T17:50:07.535464Z"
    }
   },
   "outputs": [
    {
     "data": {
      "text/plain": [
       "<AxesSubplot:xlabel='LotFrontage', ylabel='Density'>"
      ]
     },
     "execution_count": 14,
     "metadata": {},
     "output_type": "execute_result"
    },
    {
     "data": {
      "image/png": "[encoded data removed]",
      "text/plain": [
       "<Figure size 1800x360 with 2 Axes>"
      ]
     },
     "metadata": {
      "needs_background": "light"
     },
     "output_type": "display_data"
    }
   ],
   "source": [
    "# Plotting to visually see the distribution to replace the missing values\n",
    "plt.figure(figsize=(25, 5))\n",
    "plt.subplot(1,3,1)\n",
    "sns.distplot(data['MasVnrArea'])\n",
    "plt.subplot(1,3,2)\n",
    "sns.distplot(data['LotFrontage'])"
   ]
  },
  {
   "cell_type": "code",
   "execution_count": 15,
   "id": "8cd453b7",
   "metadata": {
    "ExecuteTime": {
     "end_time": "2022-08-31T17:50:08.990964Z",
     "start_time": "2022-08-31T17:50:08.970958Z"
    }
   },
   "outputs": [],
   "source": [
    "# Replacing with median as the data is skewed\n",
    "data['MasVnrArea'].fillna(data['MasVnrArea'].median(), inplace=True)\n",
    "data['LotFrontage'].fillna(data['LotFrontage'].median(), inplace=True)"
   ]
  },
  {
   "cell_type": "code",
   "execution_count": 16,
   "id": "fc82ba75",
   "metadata": {
    "ExecuteTime": {
     "end_time": "2022-08-31T17:50:09.072948Z",
     "start_time": "2022-08-31T17:50:09.002428Z"
    }
   },
   "outputs": [
    {
     "data": {
      "text/html": [
       "<div>\n",
       "<style scoped>\n",
       "    .dataframe tbody tr th:only-of-type {\n",
       "        vertical-align: middle;\n",
       "    }\n",
       "\n",
       "    .dataframe tbody tr th {\n",
       "        vertical-align: top;\n",
       "    }\n",
       "\n",
       "    .dataframe thead th {\n",
       "        text-align: right;\n",
       "    }\n",
       "</style>\n",
       "<table border=\"1\" class=\"dataframe\">\n",
       "  <thead>\n",
       "    <tr style=\"text-align: right;\">\n",
       "      <th></th>\n",
       "      <th>No_null_val</th>\n",
       "      <th>Perc_null_val</th>\n",
       "    </tr>\n",
       "  </thead>\n",
       "  <tbody>\n",
       "    <tr>\n",
       "      <th>BsmtQual</th>\n",
       "      <td>37</td>\n",
       "      <td>3.0</td>\n",
       "    </tr>\n",
       "    <tr>\n",
       "      <th>BsmtCond</th>\n",
       "      <td>37</td>\n",
       "      <td>3.0</td>\n",
       "    </tr>\n",
       "    <tr>\n",
       "      <th>BsmtFinType1</th>\n",
       "      <td>37</td>\n",
       "      <td>3.0</td>\n",
       "    </tr>\n",
       "    <tr>\n",
       "      <th>BsmtFinType2</th>\n",
       "      <td>38</td>\n",
       "      <td>3.0</td>\n",
       "    </tr>\n",
       "    <tr>\n",
       "      <th>BsmtExposure</th>\n",
       "      <td>38</td>\n",
       "      <td>3.0</td>\n",
       "    </tr>\n",
       "    <tr>\n",
       "      <th>GarageQual</th>\n",
       "      <td>81</td>\n",
       "      <td>6.0</td>\n",
       "    </tr>\n",
       "    <tr>\n",
       "      <th>GarageFinish</th>\n",
       "      <td>81</td>\n",
       "      <td>6.0</td>\n",
       "    </tr>\n",
       "    <tr>\n",
       "      <th>GarageYrBlt</th>\n",
       "      <td>81</td>\n",
       "      <td>6.0</td>\n",
       "    </tr>\n",
       "    <tr>\n",
       "      <th>GarageType</th>\n",
       "      <td>81</td>\n",
       "      <td>6.0</td>\n",
       "    </tr>\n",
       "    <tr>\n",
       "      <th>GarageCond</th>\n",
       "      <td>81</td>\n",
       "      <td>6.0</td>\n",
       "    </tr>\n",
       "    <tr>\n",
       "      <th>FireplaceQu</th>\n",
       "      <td>690</td>\n",
       "      <td>47.0</td>\n",
       "    </tr>\n",
       "  </tbody>\n",
       "</table>\n",
       "</div>"
      ],
      "text/plain": [
       "              No_null_val  Perc_null_val\n",
       "BsmtQual               37            3.0\n",
       "BsmtCond               37            3.0\n",
       "BsmtFinType1           37            3.0\n",
       "BsmtFinType2           38            3.0\n",
       "BsmtExposure           38            3.0\n",
       "GarageQual             81            6.0\n",
       "GarageFinish           81            6.0\n",
       "GarageYrBlt            81            6.0\n",
       "GarageType             81            6.0\n",
       "GarageCond             81            6.0\n",
       "FireplaceQu           690           47.0"
      ]
     },
     "execution_count": 16,
     "metadata": {},
     "output_type": "execute_result"
    }
   ],
   "source": [
    "# Updating the null list to keep a track of it\n",
    "null_val = null_val.drop(['MasVnrArea', 'LotFrontage']) \n",
    "null_val"
   ]
  },
  {
   "cell_type": "code",
   "execution_count": 17,
   "id": "69d131ef",
   "metadata": {
    "ExecuteTime": {
     "end_time": "2022-08-31T17:50:09.119638Z",
     "start_time": "2022-08-31T17:50:09.082201Z"
    }
   },
   "outputs": [
    {
     "data": {
      "text/plain": [
       "2005.0    65\n",
       "2006.0    59\n",
       "2004.0    53\n",
       "2003.0    50\n",
       "2007.0    49\n",
       "          ..\n",
       "1906.0     1\n",
       "1908.0     1\n",
       "1933.0     1\n",
       "1900.0     1\n",
       "1927.0     1\n",
       "Name: GarageYrBlt, Length: 97, dtype: int64"
      ]
     },
     "execution_count": 17,
     "metadata": {},
     "output_type": "execute_result"
    }
   ],
   "source": [
    "# Though the column GarageYRBlt is int, It is actually gives the Year of Garage built and can be taken as ordinal categories\n",
    "data['GarageYrBlt'].value_counts()"
   ]
  },
  {
   "cell_type": "code",
   "execution_count": 18,
   "id": "d1b52b59",
   "metadata": {
    "ExecuteTime": {
     "end_time": "2022-08-31T17:50:09.150728Z",
     "start_time": "2022-08-31T17:50:09.123864Z"
    }
   },
   "outputs": [],
   "source": [
    "# As the unique values are 97, we can not create the dummy variable to it. Instead we'll replace NAN values with 0!\n",
    "data['GarageYrBlt'].fillna(0, inplace=True)"
   ]
  },
  {
   "cell_type": "markdown",
   "id": "9b74e2e4",
   "metadata": {},
   "source": [
    "One thing we saw common in Garage columns ie all the missing values for entire garage data are same(81 records missing)\n",
    "Therefore from Data dictonary we got to know that the missing values represent No garage for the property and \n",
    "therefore no details were provided for all 81 records"
   ]
  },
  {
   "cell_type": "code",
   "execution_count": 19,
   "id": "4d58d7c2",
   "metadata": {
    "ExecuteTime": {
     "end_time": "2022-08-31T17:50:09.193529Z",
     "start_time": "2022-08-31T17:50:09.154904Z"
    }
   },
   "outputs": [
    {
     "data": {
      "text/plain": [
       "Attchd     870\n",
       "Detchd     387\n",
       "BuiltIn     88\n",
       "Basment     19\n",
       "CarPort      9\n",
       "2Types       6\n",
       "Name: GarageType, dtype: int64"
      ]
     },
     "execution_count": 19,
     "metadata": {},
     "output_type": "execute_result"
    }
   ],
   "source": [
    "# Checking values\n",
    "data['GarageType'].value_counts()"
   ]
  },
  {
   "cell_type": "code",
   "execution_count": 20,
   "id": "d8ee36b8",
   "metadata": {
    "ExecuteTime": {
     "end_time": "2022-08-31T17:50:09.234656Z",
     "start_time": "2022-08-31T17:50:09.200661Z"
    }
   },
   "outputs": [
    {
     "data": {
      "text/html": [
       "<div>\n",
       "<style scoped>\n",
       "    .dataframe tbody tr th:only-of-type {\n",
       "        vertical-align: middle;\n",
       "    }\n",
       "\n",
       "    .dataframe tbody tr th {\n",
       "        vertical-align: top;\n",
       "    }\n",
       "\n",
       "    .dataframe thead th {\n",
       "        text-align: right;\n",
       "    }\n",
       "</style>\n",
       "<table border=\"1\" class=\"dataframe\">\n",
       "  <thead>\n",
       "    <tr style=\"text-align: right;\">\n",
       "      <th></th>\n",
       "      <th>2Types</th>\n",
       "      <th>Attchd</th>\n",
       "      <th>Basment</th>\n",
       "      <th>BuiltIn</th>\n",
       "      <th>CarPort</th>\n",
       "      <th>Detchd</th>\n",
       "      <th>No Garage</th>\n",
       "    </tr>\n",
       "  </thead>\n",
       "  <tbody>\n",
       "    <tr>\n",
       "      <th>0</th>\n",
       "      <td>0</td>\n",
       "      <td>1</td>\n",
       "      <td>0</td>\n",
       "      <td>0</td>\n",
       "      <td>0</td>\n",
       "      <td>0</td>\n",
       "      <td>0</td>\n",
       "    </tr>\n",
       "    <tr>\n",
       "      <th>1</th>\n",
       "      <td>0</td>\n",
       "      <td>1</td>\n",
       "      <td>0</td>\n",
       "      <td>0</td>\n",
       "      <td>0</td>\n",
       "      <td>0</td>\n",
       "      <td>0</td>\n",
       "    </tr>\n",
       "    <tr>\n",
       "      <th>2</th>\n",
       "      <td>0</td>\n",
       "      <td>1</td>\n",
       "      <td>0</td>\n",
       "      <td>0</td>\n",
       "      <td>0</td>\n",
       "      <td>0</td>\n",
       "      <td>0</td>\n",
       "    </tr>\n",
       "    <tr>\n",
       "      <th>3</th>\n",
       "      <td>0</td>\n",
       "      <td>0</td>\n",
       "      <td>0</td>\n",
       "      <td>0</td>\n",
       "      <td>0</td>\n",
       "      <td>1</td>\n",
       "      <td>0</td>\n",
       "    </tr>\n",
       "    <tr>\n",
       "      <th>4</th>\n",
       "      <td>0</td>\n",
       "      <td>1</td>\n",
       "      <td>0</td>\n",
       "      <td>0</td>\n",
       "      <td>0</td>\n",
       "      <td>0</td>\n",
       "      <td>0</td>\n",
       "    </tr>\n",
       "  </tbody>\n",
       "</table>\n",
       "</div>"
      ],
      "text/plain": [
       "   2Types  Attchd  Basment  BuiltIn  CarPort  Detchd  No Garage\n",
       "0       0       1        0        0        0       0          0\n",
       "1       0       1        0        0        0       0          0\n",
       "2       0       1        0        0        0       0          0\n",
       "3       0       0        0        0        0       1          0\n",
       "4       0       1        0        0        0       0          0"
      ]
     },
     "execution_count": 20,
     "metadata": {},
     "output_type": "execute_result"
    }
   ],
   "source": [
    "# Lets fill the NAN values as No Garage instead.\n",
    "gar = data['GarageType'].fillna('No Garage')\n",
    "pd.get_dummies(gar).head()"
   ]
  },
  {
   "cell_type": "markdown",
   "id": "1946e4ee",
   "metadata": {},
   "source": [
    "Now, we don't need all 7 columns in the data. We can anyways drop `No Garage` can be identified if rest of the 6 colums are 0"
   ]
  },
  {
   "cell_type": "code",
   "execution_count": 21,
   "id": "faa2133f",
   "metadata": {
    "ExecuteTime": {
     "end_time": "2022-08-31T17:50:09.288559Z",
     "start_time": "2022-08-31T17:50:09.244009Z"
    }
   },
   "outputs": [
    {
     "data": {
      "text/html": [
       "<div>\n",
       "<style scoped>\n",
       "    .dataframe tbody tr th:only-of-type {\n",
       "        vertical-align: middle;\n",
       "    }\n",
       "\n",
       "    .dataframe tbody tr th {\n",
       "        vertical-align: top;\n",
       "    }\n",
       "\n",
       "    .dataframe thead th {\n",
       "        text-align: right;\n",
       "    }\n",
       "</style>\n",
       "<table border=\"1\" class=\"dataframe\">\n",
       "  <thead>\n",
       "    <tr style=\"text-align: right;\">\n",
       "      <th></th>\n",
       "      <th>2Types</th>\n",
       "      <th>Attchd</th>\n",
       "      <th>Basment</th>\n",
       "      <th>BuiltIn</th>\n",
       "      <th>CarPort</th>\n",
       "      <th>Detchd</th>\n",
       "    </tr>\n",
       "  </thead>\n",
       "  <tbody>\n",
       "    <tr>\n",
       "      <th>0</th>\n",
       "      <td>0</td>\n",
       "      <td>1</td>\n",
       "      <td>0</td>\n",
       "      <td>0</td>\n",
       "      <td>0</td>\n",
       "      <td>0</td>\n",
       "    </tr>\n",
       "    <tr>\n",
       "      <th>1</th>\n",
       "      <td>0</td>\n",
       "      <td>1</td>\n",
       "      <td>0</td>\n",
       "      <td>0</td>\n",
       "      <td>0</td>\n",
       "      <td>0</td>\n",
       "    </tr>\n",
       "    <tr>\n",
       "      <th>2</th>\n",
       "      <td>0</td>\n",
       "      <td>1</td>\n",
       "      <td>0</td>\n",
       "      <td>0</td>\n",
       "      <td>0</td>\n",
       "      <td>0</td>\n",
       "    </tr>\n",
       "    <tr>\n",
       "      <th>3</th>\n",
       "      <td>0</td>\n",
       "      <td>0</td>\n",
       "      <td>0</td>\n",
       "      <td>0</td>\n",
       "      <td>0</td>\n",
       "      <td>1</td>\n",
       "    </tr>\n",
       "    <tr>\n",
       "      <th>4</th>\n",
       "      <td>0</td>\n",
       "      <td>1</td>\n",
       "      <td>0</td>\n",
       "      <td>0</td>\n",
       "      <td>0</td>\n",
       "      <td>0</td>\n",
       "    </tr>\n",
       "  </tbody>\n",
       "</table>\n",
       "</div>"
      ],
      "text/plain": [
       "   2Types  Attchd  Basment  BuiltIn  CarPort  Detchd\n",
       "0       0       1        0        0        0       0\n",
       "1       0       1        0        0        0       0\n",
       "2       0       1        0        0        0       0\n",
       "3       0       0        0        0        0       1\n",
       "4       0       1        0        0        0       0"
      ]
     },
     "execution_count": 21,
     "metadata": {},
     "output_type": "execute_result"
    }
   ],
   "source": [
    "# Visuallising the things\n",
    "pd.get_dummies(data['GarageType']).head()"
   ]
  },
  {
   "cell_type": "code",
   "execution_count": 22,
   "id": "0465b015",
   "metadata": {
    "ExecuteTime": {
     "end_time": "2022-08-31T17:50:09.328222Z",
     "start_time": "2022-08-31T17:50:09.292547Z"
    }
   },
   "outputs": [
    {
     "data": {
      "text/html": [
       "<div>\n",
       "<style scoped>\n",
       "    .dataframe tbody tr th:only-of-type {\n",
       "        vertical-align: middle;\n",
       "    }\n",
       "\n",
       "    .dataframe tbody tr th {\n",
       "        vertical-align: top;\n",
       "    }\n",
       "\n",
       "    .dataframe thead th {\n",
       "        text-align: right;\n",
       "    }\n",
       "</style>\n",
       "<table border=\"1\" class=\"dataframe\">\n",
       "  <thead>\n",
       "    <tr style=\"text-align: right;\">\n",
       "      <th></th>\n",
       "      <th>GarageQual</th>\n",
       "      <th>GarageFinish</th>\n",
       "      <th>GarageType</th>\n",
       "      <th>GarageCond</th>\n",
       "    </tr>\n",
       "  </thead>\n",
       "  <tbody>\n",
       "    <tr>\n",
       "      <th>0</th>\n",
       "      <td>TA</td>\n",
       "      <td>RFn</td>\n",
       "      <td>Attchd</td>\n",
       "      <td>TA</td>\n",
       "    </tr>\n",
       "    <tr>\n",
       "      <th>1</th>\n",
       "      <td>TA</td>\n",
       "      <td>RFn</td>\n",
       "      <td>Attchd</td>\n",
       "      <td>TA</td>\n",
       "    </tr>\n",
       "    <tr>\n",
       "      <th>2</th>\n",
       "      <td>TA</td>\n",
       "      <td>RFn</td>\n",
       "      <td>Attchd</td>\n",
       "      <td>TA</td>\n",
       "    </tr>\n",
       "    <tr>\n",
       "      <th>3</th>\n",
       "      <td>TA</td>\n",
       "      <td>Unf</td>\n",
       "      <td>Detchd</td>\n",
       "      <td>TA</td>\n",
       "    </tr>\n",
       "    <tr>\n",
       "      <th>4</th>\n",
       "      <td>TA</td>\n",
       "      <td>RFn</td>\n",
       "      <td>Attchd</td>\n",
       "      <td>TA</td>\n",
       "    </tr>\n",
       "  </tbody>\n",
       "</table>\n",
       "</div>"
      ],
      "text/plain": [
       "  GarageQual GarageFinish GarageType GarageCond\n",
       "0         TA          RFn     Attchd         TA\n",
       "1         TA          RFn     Attchd         TA\n",
       "2         TA          RFn     Attchd         TA\n",
       "3         TA          Unf     Detchd         TA\n",
       "4         TA          RFn     Attchd         TA"
      ]
     },
     "execution_count": 22,
     "metadata": {},
     "output_type": "execute_result"
    }
   ],
   "source": [
    "# Extracting only Garage columns to treat\n",
    "garage = data[['GarageQual', 'GarageFinish', 'GarageType', 'GarageCond']]\n",
    "garage.head()"
   ]
  },
  {
   "cell_type": "code",
   "execution_count": 23,
   "id": "2c55d7a4",
   "metadata": {
    "ExecuteTime": {
     "end_time": "2022-08-31T17:50:09.420201Z",
     "start_time": "2022-08-31T17:50:09.353889Z"
    }
   },
   "outputs": [
    {
     "data": {
      "text/html": [
       "<div>\n",
       "<style scoped>\n",
       "    .dataframe tbody tr th:only-of-type {\n",
       "        vertical-align: middle;\n",
       "    }\n",
       "\n",
       "    .dataframe tbody tr th {\n",
       "        vertical-align: top;\n",
       "    }\n",
       "\n",
       "    .dataframe thead th {\n",
       "        text-align: right;\n",
       "    }\n",
       "</style>\n",
       "<table border=\"1\" class=\"dataframe\">\n",
       "  <thead>\n",
       "    <tr style=\"text-align: right;\">\n",
       "      <th></th>\n",
       "      <th>GarageQual_Ex</th>\n",
       "      <th>GarageQual_Fa</th>\n",
       "      <th>GarageQual_Gd</th>\n",
       "      <th>GarageQual_Po</th>\n",
       "      <th>GarageQual_TA</th>\n",
       "      <th>GarageFinish_Fin</th>\n",
       "      <th>GarageFinish_RFn</th>\n",
       "      <th>GarageFinish_Unf</th>\n",
       "      <th>GarageType_2Types</th>\n",
       "      <th>GarageType_Attchd</th>\n",
       "      <th>GarageType_Basment</th>\n",
       "      <th>GarageType_BuiltIn</th>\n",
       "      <th>GarageType_CarPort</th>\n",
       "      <th>GarageType_Detchd</th>\n",
       "      <th>GarageCond_Ex</th>\n",
       "      <th>GarageCond_Fa</th>\n",
       "      <th>GarageCond_Gd</th>\n",
       "      <th>GarageCond_Po</th>\n",
       "      <th>GarageCond_TA</th>\n",
       "    </tr>\n",
       "  </thead>\n",
       "  <tbody>\n",
       "    <tr>\n",
       "      <th>0</th>\n",
       "      <td>0</td>\n",
       "      <td>0</td>\n",
       "      <td>0</td>\n",
       "      <td>0</td>\n",
       "      <td>1</td>\n",
       "      <td>0</td>\n",
       "      <td>1</td>\n",
       "      <td>0</td>\n",
       "      <td>0</td>\n",
       "      <td>1</td>\n",
       "      <td>0</td>\n",
       "      <td>0</td>\n",
       "      <td>0</td>\n",
       "      <td>0</td>\n",
       "      <td>0</td>\n",
       "      <td>0</td>\n",
       "      <td>0</td>\n",
       "      <td>0</td>\n",
       "      <td>1</td>\n",
       "    </tr>\n",
       "    <tr>\n",
       "      <th>1</th>\n",
       "      <td>0</td>\n",
       "      <td>0</td>\n",
       "      <td>0</td>\n",
       "      <td>0</td>\n",
       "      <td>1</td>\n",
       "      <td>0</td>\n",
       "      <td>1</td>\n",
       "      <td>0</td>\n",
       "      <td>0</td>\n",
       "      <td>1</td>\n",
       "      <td>0</td>\n",
       "      <td>0</td>\n",
       "      <td>0</td>\n",
       "      <td>0</td>\n",
       "      <td>0</td>\n",
       "      <td>0</td>\n",
       "      <td>0</td>\n",
       "      <td>0</td>\n",
       "      <td>1</td>\n",
       "    </tr>\n",
       "    <tr>\n",
       "      <th>2</th>\n",
       "      <td>0</td>\n",
       "      <td>0</td>\n",
       "      <td>0</td>\n",
       "      <td>0</td>\n",
       "      <td>1</td>\n",
       "      <td>0</td>\n",
       "      <td>1</td>\n",
       "      <td>0</td>\n",
       "      <td>0</td>\n",
       "      <td>1</td>\n",
       "      <td>0</td>\n",
       "      <td>0</td>\n",
       "      <td>0</td>\n",
       "      <td>0</td>\n",
       "      <td>0</td>\n",
       "      <td>0</td>\n",
       "      <td>0</td>\n",
       "      <td>0</td>\n",
       "      <td>1</td>\n",
       "    </tr>\n",
       "    <tr>\n",
       "      <th>3</th>\n",
       "      <td>0</td>\n",
       "      <td>0</td>\n",
       "      <td>0</td>\n",
       "      <td>0</td>\n",
       "      <td>1</td>\n",
       "      <td>0</td>\n",
       "      <td>0</td>\n",
       "      <td>1</td>\n",
       "      <td>0</td>\n",
       "      <td>0</td>\n",
       "      <td>0</td>\n",
       "      <td>0</td>\n",
       "      <td>0</td>\n",
       "      <td>1</td>\n",
       "      <td>0</td>\n",
       "      <td>0</td>\n",
       "      <td>0</td>\n",
       "      <td>0</td>\n",
       "      <td>1</td>\n",
       "    </tr>\n",
       "    <tr>\n",
       "      <th>4</th>\n",
       "      <td>0</td>\n",
       "      <td>0</td>\n",
       "      <td>0</td>\n",
       "      <td>0</td>\n",
       "      <td>1</td>\n",
       "      <td>0</td>\n",
       "      <td>1</td>\n",
       "      <td>0</td>\n",
       "      <td>0</td>\n",
       "      <td>1</td>\n",
       "      <td>0</td>\n",
       "      <td>0</td>\n",
       "      <td>0</td>\n",
       "      <td>0</td>\n",
       "      <td>0</td>\n",
       "      <td>0</td>\n",
       "      <td>0</td>\n",
       "      <td>0</td>\n",
       "      <td>1</td>\n",
       "    </tr>\n",
       "    <tr>\n",
       "      <th>...</th>\n",
       "      <td>...</td>\n",
       "      <td>...</td>\n",
       "      <td>...</td>\n",
       "      <td>...</td>\n",
       "      <td>...</td>\n",
       "      <td>...</td>\n",
       "      <td>...</td>\n",
       "      <td>...</td>\n",
       "      <td>...</td>\n",
       "      <td>...</td>\n",
       "      <td>...</td>\n",
       "      <td>...</td>\n",
       "      <td>...</td>\n",
       "      <td>...</td>\n",
       "      <td>...</td>\n",
       "      <td>...</td>\n",
       "      <td>...</td>\n",
       "      <td>...</td>\n",
       "      <td>...</td>\n",
       "    </tr>\n",
       "    <tr>\n",
       "      <th>1455</th>\n",
       "      <td>0</td>\n",
       "      <td>0</td>\n",
       "      <td>0</td>\n",
       "      <td>0</td>\n",
       "      <td>1</td>\n",
       "      <td>0</td>\n",
       "      <td>1</td>\n",
       "      <td>0</td>\n",
       "      <td>0</td>\n",
       "      <td>1</td>\n",
       "      <td>0</td>\n",
       "      <td>0</td>\n",
       "      <td>0</td>\n",
       "      <td>0</td>\n",
       "      <td>0</td>\n",
       "      <td>0</td>\n",
       "      <td>0</td>\n",
       "      <td>0</td>\n",
       "      <td>1</td>\n",
       "    </tr>\n",
       "    <tr>\n",
       "      <th>1456</th>\n",
       "      <td>0</td>\n",
       "      <td>0</td>\n",
       "      <td>0</td>\n",
       "      <td>0</td>\n",
       "      <td>1</td>\n",
       "      <td>0</td>\n",
       "      <td>0</td>\n",
       "      <td>1</td>\n",
       "      <td>0</td>\n",
       "      <td>1</td>\n",
       "      <td>0</td>\n",
       "      <td>0</td>\n",
       "      <td>0</td>\n",
       "      <td>0</td>\n",
       "      <td>0</td>\n",
       "      <td>0</td>\n",
       "      <td>0</td>\n",
       "      <td>0</td>\n",
       "      <td>1</td>\n",
       "    </tr>\n",
       "    <tr>\n",
       "      <th>1457</th>\n",
       "      <td>0</td>\n",
       "      <td>0</td>\n",
       "      <td>0</td>\n",
       "      <td>0</td>\n",
       "      <td>1</td>\n",
       "      <td>0</td>\n",
       "      <td>1</td>\n",
       "      <td>0</td>\n",
       "      <td>0</td>\n",
       "      <td>1</td>\n",
       "      <td>0</td>\n",
       "      <td>0</td>\n",
       "      <td>0</td>\n",
       "      <td>0</td>\n",
       "      <td>0</td>\n",
       "      <td>0</td>\n",
       "      <td>0</td>\n",
       "      <td>0</td>\n",
       "      <td>1</td>\n",
       "    </tr>\n",
       "    <tr>\n",
       "      <th>1458</th>\n",
       "      <td>0</td>\n",
       "      <td>0</td>\n",
       "      <td>0</td>\n",
       "      <td>0</td>\n",
       "      <td>1</td>\n",
       "      <td>0</td>\n",
       "      <td>0</td>\n",
       "      <td>1</td>\n",
       "      <td>0</td>\n",
       "      <td>1</td>\n",
       "      <td>0</td>\n",
       "      <td>0</td>\n",
       "      <td>0</td>\n",
       "      <td>0</td>\n",
       "      <td>0</td>\n",
       "      <td>0</td>\n",
       "      <td>0</td>\n",
       "      <td>0</td>\n",
       "      <td>1</td>\n",
       "    </tr>\n",
       "    <tr>\n",
       "      <th>1459</th>\n",
       "      <td>0</td>\n",
       "      <td>0</td>\n",
       "      <td>0</td>\n",
       "      <td>0</td>\n",
       "      <td>1</td>\n",
       "      <td>1</td>\n",
       "      <td>0</td>\n",
       "      <td>0</td>\n",
       "      <td>0</td>\n",
       "      <td>1</td>\n",
       "      <td>0</td>\n",
       "      <td>0</td>\n",
       "      <td>0</td>\n",
       "      <td>0</td>\n",
       "      <td>0</td>\n",
       "      <td>0</td>\n",
       "      <td>0</td>\n",
       "      <td>0</td>\n",
       "      <td>1</td>\n",
       "    </tr>\n",
       "  </tbody>\n",
       "</table>\n",
       "<p>1460 rows × 19 columns</p>\n",
       "</div>"
      ],
      "text/plain": [
       "      GarageQual_Ex  GarageQual_Fa  GarageQual_Gd  GarageQual_Po  \\\n",
       "0                 0              0              0              0   \n",
       "1                 0              0              0              0   \n",
       "2                 0              0              0              0   \n",
       "3                 0              0              0              0   \n",
       "4                 0              0              0              0   \n",
       "...             ...            ...            ...            ...   \n",
       "1455              0              0              0              0   \n",
       "1456              0              0              0              0   \n",
       "1457              0              0              0              0   \n",
       "1458              0              0              0              0   \n",
       "1459              0              0              0              0   \n",
       "\n",
       "      GarageQual_TA  GarageFinish_Fin  GarageFinish_RFn  GarageFinish_Unf  \\\n",
       "0                 1                 0                 1                 0   \n",
       "1                 1                 0                 1                 0   \n",
       "2                 1                 0                 1                 0   \n",
       "3                 1                 0                 0                 1   \n",
       "4                 1                 0                 1                 0   \n",
       "...             ...               ...               ...               ...   \n",
       "1455              1                 0                 1                 0   \n",
       "1456              1                 0                 0                 1   \n",
       "1457              1                 0                 1                 0   \n",
       "1458              1                 0                 0                 1   \n",
       "1459              1                 1                 0                 0   \n",
       "\n",
       "      GarageType_2Types  GarageType_Attchd  GarageType_Basment  \\\n",
       "0                     0                  1                   0   \n",
       "1                     0                  1                   0   \n",
       "2                     0                  1                   0   \n",
       "3                     0                  0                   0   \n",
       "4                     0                  1                   0   \n",
       "...                 ...                ...                 ...   \n",
       "1455                  0                  1                   0   \n",
       "1456                  0                  1                   0   \n",
       "1457                  0                  1                   0   \n",
       "1458                  0                  1                   0   \n",
       "1459                  0                  1                   0   \n",
       "\n",
       "      GarageType_BuiltIn  GarageType_CarPort  GarageType_Detchd  \\\n",
       "0                      0                   0                  0   \n",
       "1                      0                   0                  0   \n",
       "2                      0                   0                  0   \n",
       "3                      0                   0                  1   \n",
       "4                      0                   0                  0   \n",
       "...                  ...                 ...                ...   \n",
       "1455                   0                   0                  0   \n",
       "1456                   0                   0                  0   \n",
       "1457                   0                   0                  0   \n",
       "1458                   0                   0                  0   \n",
       "1459                   0                   0                  0   \n",
       "\n",
       "      GarageCond_Ex  GarageCond_Fa  GarageCond_Gd  GarageCond_Po  \\\n",
       "0                 0              0              0              0   \n",
       "1                 0              0              0              0   \n",
       "2                 0              0              0              0   \n",
       "3                 0              0              0              0   \n",
       "4                 0              0              0              0   \n",
       "...             ...            ...            ...            ...   \n",
       "1455              0              0              0              0   \n",
       "1456              0              0              0              0   \n",
       "1457              0              0              0              0   \n",
       "1458              0              0              0              0   \n",
       "1459              0              0              0              0   \n",
       "\n",
       "      GarageCond_TA  \n",
       "0                 1  \n",
       "1                 1  \n",
       "2                 1  \n",
       "3                 1  \n",
       "4                 1  \n",
       "...             ...  \n",
       "1455              1  \n",
       "1456              1  \n",
       "1457              1  \n",
       "1458              1  \n",
       "1459              1  \n",
       "\n",
       "[1460 rows x 19 columns]"
      ]
     },
     "execution_count": 23,
     "metadata": {},
     "output_type": "execute_result"
    }
   ],
   "source": [
    "# Getting all the dummy variable for Garage\n",
    "garage = pd.get_dummies(garage)\n",
    "garage"
   ]
  },
  {
   "cell_type": "code",
   "execution_count": 24,
   "id": "b6936509",
   "metadata": {
    "ExecuteTime": {
     "end_time": "2022-08-31T17:50:09.470883Z",
     "start_time": "2022-08-31T17:50:09.427030Z"
    }
   },
   "outputs": [
    {
     "data": {
      "text/plain": [
       "(1460, 92)"
      ]
     },
     "execution_count": 24,
     "metadata": {},
     "output_type": "execute_result"
    }
   ],
   "source": [
    "# Dropping the columns and concatinating to main data frame\n",
    "data.drop(columns=['GarageQual', 'GarageFinish', 'GarageType', 'GarageCond'], inplace=True)\n",
    "data = pd.concat([data, garage], axis=1)\n",
    "data.shape"
   ]
  },
  {
   "cell_type": "code",
   "execution_count": 25,
   "id": "e51585e7",
   "metadata": {
    "ExecuteTime": {
     "end_time": "2022-08-31T17:50:09.496434Z",
     "start_time": "2022-08-31T17:50:09.474570Z"
    }
   },
   "outputs": [
    {
     "data": {
      "text/html": [
       "<div>\n",
       "<style scoped>\n",
       "    .dataframe tbody tr th:only-of-type {\n",
       "        vertical-align: middle;\n",
       "    }\n",
       "\n",
       "    .dataframe tbody tr th {\n",
       "        vertical-align: top;\n",
       "    }\n",
       "\n",
       "    .dataframe thead th {\n",
       "        text-align: right;\n",
       "    }\n",
       "</style>\n",
       "<table border=\"1\" class=\"dataframe\">\n",
       "  <thead>\n",
       "    <tr style=\"text-align: right;\">\n",
       "      <th></th>\n",
       "      <th>No_null_val</th>\n",
       "      <th>Perc_null_val</th>\n",
       "    </tr>\n",
       "  </thead>\n",
       "  <tbody>\n",
       "    <tr>\n",
       "      <th>BsmtQual</th>\n",
       "      <td>37</td>\n",
       "      <td>3.0</td>\n",
       "    </tr>\n",
       "    <tr>\n",
       "      <th>BsmtCond</th>\n",
       "      <td>37</td>\n",
       "      <td>3.0</td>\n",
       "    </tr>\n",
       "    <tr>\n",
       "      <th>BsmtFinType1</th>\n",
       "      <td>37</td>\n",
       "      <td>3.0</td>\n",
       "    </tr>\n",
       "    <tr>\n",
       "      <th>BsmtFinType2</th>\n",
       "      <td>38</td>\n",
       "      <td>3.0</td>\n",
       "    </tr>\n",
       "    <tr>\n",
       "      <th>BsmtExposure</th>\n",
       "      <td>38</td>\n",
       "      <td>3.0</td>\n",
       "    </tr>\n",
       "    <tr>\n",
       "      <th>FireplaceQu</th>\n",
       "      <td>690</td>\n",
       "      <td>47.0</td>\n",
       "    </tr>\n",
       "  </tbody>\n",
       "</table>\n",
       "</div>"
      ],
      "text/plain": [
       "              No_null_val  Perc_null_val\n",
       "BsmtQual               37            3.0\n",
       "BsmtCond               37            3.0\n",
       "BsmtFinType1           37            3.0\n",
       "BsmtFinType2           38            3.0\n",
       "BsmtExposure           38            3.0\n",
       "FireplaceQu           690           47.0"
      ]
     },
     "execution_count": 25,
     "metadata": {},
     "output_type": "execute_result"
    }
   ],
   "source": [
    "# Updating the null list to keep a track of it\n",
    "null_val = null_val.drop(['GarageQual', 'GarageFinish', 'GarageYrBlt', 'GarageType', 'GarageCond']) \n",
    "null_val"
   ]
  },
  {
   "cell_type": "markdown",
   "id": "5c16db79",
   "metadata": {
    "ExecuteTime": {
     "end_time": "2022-08-29T19:27:46.178814Z",
     "start_time": "2022-08-29T19:27:46.165278Z"
    }
   },
   "source": [
    "Smilarlly we see BsmtQual columns(Basement) ie all the missing values for entire BsmtQual data is same(37 records missing)\n",
    "We got to know that the missing values represent No Basement for the property and no details were provided for all other records. Therefore using the get dummies function to encode it to binary forms. Lets also add FireplaceQu which also means the property did not had any Fire Place at all."
   ]
  },
  {
   "cell_type": "code",
   "execution_count": 26,
   "id": "95a5fb3a",
   "metadata": {
    "ExecuteTime": {
     "end_time": "2022-08-31T17:50:09.570481Z",
     "start_time": "2022-08-31T17:50:09.501668Z"
    }
   },
   "outputs": [
    {
     "data": {
      "text/plain": [
       "(1460, 115)"
      ]
     },
     "execution_count": 26,
     "metadata": {},
     "output_type": "execute_result"
    }
   ],
   "source": [
    "# Repeating the same things done for Garage columns\n",
    "base_fire = data[['BsmtQual', 'BsmtCond', 'BsmtFinType1', 'BsmtFinType2', 'BsmtExposure', 'FireplaceQu']]\n",
    "base_fire = pd.get_dummies(base_fire)\n",
    "data.drop(columns=['BsmtQual', 'BsmtCond', 'BsmtFinType1', 'BsmtFinType2', 'BsmtExposure', 'FireplaceQu'], inplace=True)\n",
    "data = pd.concat([data, base_fire], axis=1)\n",
    "data.shape"
   ]
  },
  {
   "cell_type": "code",
   "execution_count": 27,
   "id": "de22a389",
   "metadata": {
    "ExecuteTime": {
     "end_time": "2022-08-31T17:50:09.601828Z",
     "start_time": "2022-08-31T17:50:09.574558Z"
    }
   },
   "outputs": [
    {
     "data": {
      "text/plain": [
       "uint8      48\n",
       "int64      35\n",
       "object     29\n",
       "float64     3\n",
       "dtype: int64"
      ]
     },
     "execution_count": 27,
     "metadata": {},
     "output_type": "execute_result"
    }
   ],
   "source": [
    "# Now let us look numerical columns one by one to make sure its proper before feeding it to ML\n",
    "data.dtypes.value_counts()"
   ]
  },
  {
   "cell_type": "code",
   "execution_count": 28,
   "id": "91332126",
   "metadata": {
    "ExecuteTime": {
     "end_time": "2022-08-31T17:50:09.666178Z",
     "start_time": "2022-08-31T17:50:09.610817Z"
    }
   },
   "outputs": [
    {
     "name": "stdout",
     "output_type": "stream",
     "text": [
      "<class 'pandas.core.frame.DataFrame'>\n",
      "Int64Index: 1460 entries, 0 to 1459\n",
      "Data columns (total 35 columns):\n",
      " #   Column         Non-Null Count  Dtype\n",
      "---  ------         --------------  -----\n",
      " 0   Id             1460 non-null   int64\n",
      " 1   MSSubClass     1460 non-null   int64\n",
      " 2   LotArea        1460 non-null   int64\n",
      " 3   OverallQual    1460 non-null   int64\n",
      " 4   OverallCond    1460 non-null   int64\n",
      " 5   YearBuilt      1460 non-null   int64\n",
      " 6   YearRemodAdd   1460 non-null   int64\n",
      " 7   BsmtFinSF1     1460 non-null   int64\n",
      " 8   BsmtFinSF2     1460 non-null   int64\n",
      " 9   BsmtUnfSF      1460 non-null   int64\n",
      " 10  TotalBsmtSF    1460 non-null   int64\n",
      " 11  1stFlrSF       1460 non-null   int64\n",
      " 12  2ndFlrSF       1460 non-null   int64\n",
      " 13  LowQualFinSF   1460 non-null   int64\n",
      " 14  GrLivArea      1460 non-null   int64\n",
      " 15  BsmtFullBath   1460 non-null   int64\n",
      " 16  BsmtHalfBath   1460 non-null   int64\n",
      " 17  FullBath       1460 non-null   int64\n",
      " 18  HalfBath       1460 non-null   int64\n",
      " 19  BedroomAbvGr   1460 non-null   int64\n",
      " 20  KitchenAbvGr   1460 non-null   int64\n",
      " 21  TotRmsAbvGrd   1460 non-null   int64\n",
      " 22  Fireplaces     1460 non-null   int64\n",
      " 23  GarageCars     1460 non-null   int64\n",
      " 24  GarageArea     1460 non-null   int64\n",
      " 25  WoodDeckSF     1460 non-null   int64\n",
      " 26  OpenPorchSF    1460 non-null   int64\n",
      " 27  EnclosedPorch  1460 non-null   int64\n",
      " 28  3SsnPorch      1460 non-null   int64\n",
      " 29  ScreenPorch    1460 non-null   int64\n",
      " 30  PoolArea       1460 non-null   int64\n",
      " 31  MiscVal        1460 non-null   int64\n",
      " 32  MoSold         1460 non-null   int64\n",
      " 33  YrSold         1460 non-null   int64\n",
      " 34  SalePrice      1460 non-null   int64\n",
      "dtypes: int64(35)\n",
      "memory usage: 442.9 KB\n"
     ]
    }
   ],
   "source": [
    "# Checking the Data Dictonry for these columns\n",
    "data.select_dtypes('int64').info()"
   ]
  },
  {
   "cell_type": "markdown",
   "id": "2d29b4cc",
   "metadata": {},
   "source": [
    "Out of all these columns we could find that `MSSubClass`, `MoSold` and `YrSold` are actually the normial categories representing some numbers. Therefore we shall first convert this to object and then binary encoding or dummy variable creation is performed.\n",
    "Also Some of the other variables (Eg: `OverallCond`, `OverallQual`) seems to have a pattern like Ordinal categories(Ranges from 1-10) where in we can leave as it beacuse as the number increases the quality also increases"
   ]
  },
  {
   "cell_type": "code",
   "execution_count": 29,
   "id": "d2ee9260",
   "metadata": {
    "ExecuteTime": {
     "end_time": "2022-08-31T17:50:09.696710Z",
     "start_time": "2022-08-31T17:50:09.669558Z"
    }
   },
   "outputs": [],
   "source": [
    "# Dropping Id as its just a number and converting other columns to object\n",
    "data.drop(columns=['Id'], inplace=True)\n",
    "data['MSSubClass'] = data['MSSubClass'].astype(dtype='object')\n",
    "data['MoSold'] = data['MoSold'].astype(dtype='object')\n",
    "data['YrSold'] = data['YrSold'].astype(dtype='object')"
   ]
  },
  {
   "cell_type": "code",
   "execution_count": 30,
   "id": "62f0022d",
   "metadata": {
    "ExecuteTime": {
     "end_time": "2022-08-31T17:50:09.877712Z",
     "start_time": "2022-08-31T17:50:09.711842Z"
    }
   },
   "outputs": [],
   "source": [
    "#Performing One hot encoding & creating Dummy Variables\n",
    "#NOTE: We are create dummy variables only on the nominal categories, not on the ordinal categories!\n",
    "obj = data.select_dtypes(include='object')\n",
    "data = pd.concat([data, pd.get_dummies(obj, drop_first=True)], axis=1).drop(columns=obj.columns, axis=1)"
   ]
  },
  {
   "cell_type": "code",
   "execution_count": 31,
   "id": "50beb9fc",
   "metadata": {
    "ExecuteTime": {
     "end_time": "2022-08-31T17:50:09.901721Z",
     "start_time": "2022-08-31T17:50:09.881312Z"
    }
   },
   "outputs": [
    {
     "data": {
      "text/plain": [
       "uint8      239\n",
       "int64       31\n",
       "float64      3\n",
       "dtype: int64"
      ]
     },
     "execution_count": 31,
     "metadata": {},
     "output_type": "execute_result"
    }
   ],
   "source": [
    "#Checking the final dtypes of the columns\n",
    "data.dtypes.value_counts()"
   ]
  },
  {
   "cell_type": "code",
   "execution_count": 32,
   "id": "57e1e037",
   "metadata": {
    "ExecuteTime": {
     "end_time": "2022-08-31T17:50:09.932800Z",
     "start_time": "2022-08-31T17:50:09.906023Z"
    }
   },
   "outputs": [],
   "source": [
    "# Outlier Treatment\n",
    "def outlier_limits(col):\n",
    "    Q3, Q1 = np.nanpercentile(col, [75, 25])\n",
    "    IQR = Q3 - Q1\n",
    "    UL = Q3 + 1.5 * IQR\n",
    "    LL = Q1 - 1.5 * IQR\n",
    "    return UL, LL"
   ]
  },
  {
   "cell_type": "code",
   "execution_count": 33,
   "id": "dc85637a",
   "metadata": {
    "ExecuteTime": {
     "end_time": "2022-08-31T17:50:10.023193Z",
     "start_time": "2022-08-31T17:50:09.936790Z"
    }
   },
   "outputs": [],
   "source": [
    "for column in data.columns:\n",
    "    if data[column].dtype == 'float' or data[column].dtype == 'int':\n",
    "        UL, LL = outlier_limits(data[column])\n",
    "        data[column] = np.where((data[column] > UL) | (data[column] < LL), np.nan, data[column])"
   ]
  },
  {
   "cell_type": "code",
   "execution_count": 34,
   "id": "5ca8380b",
   "metadata": {
    "ExecuteTime": {
     "end_time": "2022-08-31T17:50:10.063203Z",
     "start_time": "2022-08-31T17:50:10.029157Z"
    }
   },
   "outputs": [
    {
     "data": {
      "text/plain": [
       "(1195, 273)"
      ]
     },
     "execution_count": 34,
     "metadata": {},
     "output_type": "execute_result"
    }
   ],
   "source": [
    "data = data.dropna()\n",
    "data.shape"
   ]
  },
  {
   "cell_type": "code",
   "execution_count": 35,
   "id": "806d15b9",
   "metadata": {
    "ExecuteTime": {
     "end_time": "2022-08-31T17:50:10.078511Z",
     "start_time": "2022-08-31T17:50:10.069956Z"
    }
   },
   "outputs": [],
   "source": [
    "# Having a copy just incase for refernce\n",
    "data_prep = data.copy(deep=True)"
   ]
  },
  {
   "cell_type": "code",
   "execution_count": 36,
   "id": "0377818b",
   "metadata": {
    "ExecuteTime": {
     "end_time": "2022-08-31T17:50:10.104748Z",
     "start_time": "2022-08-31T17:50:10.083655Z"
    }
   },
   "outputs": [],
   "source": [
    "# Split into X and y\n",
    "X = data_prep.drop(['SalePrice'], axis=1)\n",
    "y = data_prep['SalePrice']"
   ]
  },
  {
   "cell_type": "code",
   "execution_count": 37,
   "id": "df92f513",
   "metadata": {
    "ExecuteTime": {
     "end_time": "2022-08-31T17:50:10.149754Z",
     "start_time": "2022-08-31T17:50:10.109083Z"
    }
   },
   "outputs": [],
   "source": [
    "# Splitting the data into train and test\n",
    "X_train, X_test, y_train, y_test = train_test_split(X, y, train_size=0.7, random_state=42)"
   ]
  },
  {
   "cell_type": "code",
   "execution_count": 38,
   "id": "a619afaa",
   "metadata": {
    "ExecuteTime": {
     "end_time": "2022-08-31T17:50:10.234011Z",
     "start_time": "2022-08-31T17:50:10.159011Z"
    }
   },
   "outputs": [],
   "source": [
    "# Normalizing the data\n",
    "cols = X_train.columns\n",
    "scaler = StandardScaler()\n",
    "scaler.fit(X_train)\n",
    "X_train = pd.DataFrame(scaler.transform(X_train), columns=cols)\n",
    "X_test = pd.DataFrame(scaler.transform(X_test), columns=cols)"
   ]
  },
  {
   "cell_type": "code",
   "execution_count": 39,
   "id": "26945caf",
   "metadata": {
    "ExecuteTime": {
     "end_time": "2022-08-31T17:50:10.349036Z",
     "start_time": "2022-08-31T17:50:10.241703Z"
    }
   },
   "outputs": [],
   "source": [
    "# Using Linear Regression\n",
    "lr = LinearRegression()\n",
    "lr.fit(X_train, y_train)\n",
    "y_pred_train = lr.predict(X_train)\n",
    "y_pred_test = lr.predict(X_test)"
   ]
  },
  {
   "cell_type": "code",
   "execution_count": 40,
   "id": "3a64c260",
   "metadata": {
    "ExecuteTime": {
     "end_time": "2022-08-31T17:50:10.398722Z",
     "start_time": "2022-08-31T17:50:10.352097Z"
    }
   },
   "outputs": [
    {
     "name": "stdout",
     "output_type": "stream",
     "text": [
      "--------------------Training Performance--------------------\n",
      "\n",
      "R2-Score on Training set ---> 0.95\n",
      "Residual Sum of Squares (RSS) on Training set  ---> 201805567875.37\n",
      "Mean Absolute Error (MAE) on Training set      ---> 10858.48\n",
      "Mean Squared Error (MSE) on Training set       ---> 241394219.95\n",
      "Root Mean Squared Error (RMSE) on Training set ---> 15536.87\n",
      "\n",
      "--------------------Testing Performance--------------------\n",
      "\n",
      "R2-Score on Testing set ---> -9.458384609261141e+20\n",
      "Residual Sum of Squares (RSS) on Testing set  ---> 1.3224734432533292e+33\n",
      "Mean Absolute Error (MAE) on Testing set      ---> 140770275366745.0\n",
      "Mean Squared Error (MSE) on Testing set       ---> 3.6837700369173524e+30\n",
      "Root Mean Squared Error (RMSE) on Testing set ---> 1919314991583547.2\n"
     ]
    }
   ],
   "source": [
    "print(f\"{'-'*20}Training Performance{'-'*20}\")\n",
    "print('\\nR2-Score on Training set --->',round(r2_score(y_train, y_pred_train),2))\n",
    "print('Residual Sum of Squares (RSS) on Training set  --->',round(np.sum(np.square(y_train - y_pred_train)),2))\n",
    "print('Mean Absolute Error (MAE) on Training set      --->',round(mean_absolute_error(y_train, y_pred_train),2))\n",
    "print('Mean Squared Error (MSE) on Training set       --->',round(mean_squared_error(y_train, y_pred_train),2))\n",
    "print('Root Mean Squared Error (RMSE) on Training set --->',round((mean_squared_error(y_train, y_pred_train)**0.5),2))\n",
    "\n",
    "print(f\"\\n{'-'*20}Testing Performance{'-'*20}\")\n",
    "print('\\nR2-Score on Testing set --->',round(r2_score(y_test, y_pred_test),2))\n",
    "print('Residual Sum of Squares (RSS) on Testing set  --->',round(np.sum(np.square(y_test - y_pred_test)),2))\n",
    "print('Mean Absolute Error (MAE) on Testing set      --->',round(mean_absolute_error(y_test, y_pred_test),2))\n",
    "print('Mean Squared Error (MSE) on Testing set       --->',round(mean_squared_error(y_test, y_pred_test),2))\n",
    "print('Root Mean Squared Error (RMSE) on Testing set --->',round((mean_squared_error(y_test, y_pred_test)**0.5),2))\n"
   ]
  },
  {
   "cell_type": "markdown",
   "id": "5d67f0ed",
   "metadata": {
    "ExecuteTime": {
     "end_time": "2022-08-31T13:51:50.220544Z",
     "start_time": "2022-08-31T13:51:50.181403Z"
    }
   },
   "source": [
    "R2 on test set is negative only when the chosen model does not follow the trend of the data. It seems that our model may be giving better performance in the training data because of over-fitting. It can be a case of over-fitting in the model. It can happen because of various reasons like small dataset and noise in the dataset. Lets regularise the model"
   ]
  },
  {
   "cell_type": "code",
   "execution_count": 41,
   "id": "8e39d03e",
   "metadata": {
    "ExecuteTime": {
     "end_time": "2022-08-31T17:50:10.494812Z",
     "start_time": "2022-08-31T17:50:10.403745Z"
    }
   },
   "outputs": [],
   "source": [
    "# Using Ridge\n",
    "Re = Ridge()\n",
    "Re.fit(X_train, y_train)\n",
    "y_pred_train = Re.predict(X_train)\n",
    "y_pred_test = Re.predict(X_test)"
   ]
  },
  {
   "cell_type": "code",
   "execution_count": 42,
   "id": "aff1ce5b",
   "metadata": {
    "ExecuteTime": {
     "end_time": "2022-08-31T17:50:11.585073Z",
     "start_time": "2022-08-31T17:50:10.499407Z"
    }
   },
   "outputs": [
    {
     "name": "stdout",
     "output_type": "stream",
     "text": [
      "--------------------Training Performance--------------------\n",
      "\n",
      "R2-Score on Training set ---> 0.95\n",
      "Residual Sum of Squares (RSS) on Training set  ---> 202195813921.94\n",
      "Mean Absolute Error (MAE) on Training set      ---> 10904.76\n",
      "Mean Squared Error (MSE) on Training set       ---> 241861021.44\n",
      "Root Mean Squared Error (RMSE) on Training set ---> 15551.88\n",
      "\n",
      "--------------------Testing Performance--------------------\n",
      "\n",
      "R2-Score on Testing set ---> 0.86\n",
      "Residual Sum of Squares (RSS) on Testing set  ---> 191707304793.57\n",
      "Mean Absolute Error (MAE) on Testing set      ---> 15946.34\n",
      "Mean Squared Error (MSE) on Testing set       ---> 534003634.52\n",
      "Root Mean Squared Error (RMSE) on Testing set ---> 23108.52\n",
      "\n",
      "--------------------Residual Plots--------------------\n"
     ]
    },
    {
     "data": {
      "image/png": "[encoded data removed]",
      "text/plain": [
       "<Figure size 1080x360 with 2 Axes>"
      ]
     },
     "metadata": {
      "needs_background": "light"
     },
     "output_type": "display_data"
    }
   ],
   "source": [
    "print(f\"{'-'*20}Training Performance{'-'*20}\")\n",
    "print('\\nR2-Score on Training set --->',round(r2_score(y_train, y_pred_train),2))\n",
    "print('Residual Sum of Squares (RSS) on Training set  --->',round(np.sum(np.square(y_train - y_pred_train)),2))\n",
    "print('Mean Absolute Error (MAE) on Training set      --->',round(mean_absolute_error(y_train, y_pred_train),2))\n",
    "print('Mean Squared Error (MSE) on Training set       --->',round(mean_squared_error(y_train, y_pred_train),2))\n",
    "print('Root Mean Squared Error (RMSE) on Training set --->',round((mean_squared_error(y_train, y_pred_train)**0.5),2))\n",
    "\n",
    "print(f\"\\n{'-'*20}Testing Performance{'-'*20}\")\n",
    "print('\\nR2-Score on Testing set --->',round(r2_score(y_test, y_pred_test),2))\n",
    "print('Residual Sum of Squares (RSS) on Testing set  --->',round(np.sum(np.square(y_test - y_pred_test)),2))\n",
    "print('Mean Absolute Error (MAE) on Testing set      --->',round(mean_absolute_error(y_test, y_pred_test),2))\n",
    "print('Mean Squared Error (MSE) on Testing set       --->',round(mean_squared_error(y_test, y_pred_test),2))\n",
    "print('Root Mean Squared Error (RMSE) on Testing set --->',round((mean_squared_error(y_test, y_pred_test)**0.5),2))\n",
    "print('\\n{}Residual Plots{}'.format('-'*20, '-'*20))\n",
    "\n",
    "plt.figure(figsize=[15,5])\n",
    "plt.subplot(1,2,1)\n",
    "residuals=(y_test - y_pred_test)\n",
    "sns.distplot(residuals)\n",
    "\n",
    "plt.subplot(1,2,2)\n",
    "sns.scatterplot(y_pred_test, residuals)\n",
    "plt.axhline(y=0, color='r', linestyle='--')\n",
    "plt.tight_layout()\n",
    "plt.show()"
   ]
  },
  {
   "cell_type": "code",
   "execution_count": 43,
   "id": "400d46f0",
   "metadata": {
    "ExecuteTime": {
     "end_time": "2022-08-31T17:50:12.009276Z",
     "start_time": "2022-08-31T17:50:11.587256Z"
    }
   },
   "outputs": [],
   "source": [
    "# Using Lasso\n",
    "ls = Lasso()\n",
    "ls.fit(X_train, y_train)\n",
    "y_pred_train = ls.predict(X_train)\n",
    "y_pred_test = ls.predict(X_test)"
   ]
  },
  {
   "cell_type": "code",
   "execution_count": 44,
   "id": "c8db395b",
   "metadata": {
    "ExecuteTime": {
     "end_time": "2022-08-31T17:50:13.114821Z",
     "start_time": "2022-08-31T17:50:12.014516Z"
    }
   },
   "outputs": [
    {
     "name": "stdout",
     "output_type": "stream",
     "text": [
      "--------------------Training Performance--------------------\n",
      "\n",
      "R2-Score on Training set ---> 0.95\n",
      "Residual Sum of Squares (RSS) on Training set  ---> 201872411336.38\n",
      "Mean Absolute Error (MAE) on Training set      ---> 10877.74\n",
      "Mean Squared Error (MSE) on Training set       ---> 241474176.24\n",
      "Root Mean Squared Error (RMSE) on Training set ---> 15539.44\n",
      "\n",
      "--------------------Testing Performance--------------------\n",
      "\n",
      "R2-Score on Testing set ---> 0.86\n",
      "Residual Sum of Squares (RSS) on Testing set  ---> 193019095978.95\n",
      "Mean Absolute Error (MAE) on Testing set      ---> 16069.27\n",
      "Mean Squared Error (MSE) on Testing set       ---> 537657648.97\n",
      "Root Mean Squared Error (RMSE) on Testing set ---> 23187.45\n",
      "\n",
      "--------------------Residual Plots--------------------\n"
     ]
    },
    {
     "data": {
      "image/png": "[encoded data removed]",
      "text/plain": [
       "<Figure size 1080x360 with 2 Axes>"
      ]
     },
     "metadata": {
      "needs_background": "light"
     },
     "output_type": "display_data"
    }
   ],
   "source": [
    "print(f\"{'-'*20}Training Performance{'-'*20}\")\n",
    "print('\\nR2-Score on Training set --->',round(r2_score(y_train, y_pred_train),2))\n",
    "print('Residual Sum of Squares (RSS) on Training set  --->',round(np.sum(np.square(y_train - y_pred_train)),2))\n",
    "print('Mean Absolute Error (MAE) on Training set      --->',round(mean_absolute_error(y_train, y_pred_train),2))\n",
    "print('Mean Squared Error (MSE) on Training set       --->',round(mean_squared_error(y_train, y_pred_train),2))\n",
    "print('Root Mean Squared Error (RMSE) on Training set --->',round((mean_squared_error(y_train, y_pred_train)**0.5),2))\n",
    "\n",
    "print(f\"\\n{'-'*20}Testing Performance{'-'*20}\")\n",
    "print('\\nR2-Score on Testing set --->',round(r2_score(y_test, y_pred_test),2))\n",
    "print('Residual Sum of Squares (RSS) on Testing set  --->',round(np.sum(np.square(y_test - y_pred_test)),2))\n",
    "print('Mean Absolute Error (MAE) on Testing set      --->',round(mean_absolute_error(y_test, y_pred_test),2))\n",
    "print('Mean Squared Error (MSE) on Testing set       --->',round(mean_squared_error(y_test, y_pred_test),2))\n",
    "print('Root Mean Squared Error (RMSE) on Testing set --->',round((mean_squared_error(y_test, y_pred_test)**0.5),2))\n",
    "print('\\n{}Residual Plots{}'.format('-'*20, '-'*20))\n",
    "\n",
    "plt.figure(figsize=[15,5])\n",
    "plt.subplot(1,2,1)\n",
    "residuals=(y_test - y_pred_test)\n",
    "sns.distplot(residuals)\n",
    "\n",
    "plt.subplot(1,2,2)\n",
    "sns.scatterplot(y_pred_test, residuals)\n",
    "plt.axhline(y=0, color='r', linestyle='--')\n",
    "plt.tight_layout()\n",
    "plt.show()"
   ]
  },
  {
   "cell_type": "markdown",
   "id": "8ca19a79",
   "metadata": {},
   "source": [
    "#### Optimizing Ridge  Model"
   ]
  },
  {
   "cell_type": "code",
   "execution_count": 45,
   "id": "d0fc55f4",
   "metadata": {
    "ExecuteTime": {
     "end_time": "2022-08-31T17:50:14.589470Z",
     "start_time": "2022-08-31T17:50:13.123661Z"
    }
   },
   "outputs": [
    {
     "name": "stdout",
     "output_type": "stream",
     "text": [
      "Best Score ---> 545706339.628598\n",
      "Best parameter ---> {'alpha': 100}\n"
     ]
    }
   ],
   "source": [
    "#Fine tuning Lambda/alpha as the hyper parameter. (Round 1)\n",
    "hyper_param = {'alpha':[0.0001, 0.001, 0.01, 0.1, 1, 10, 100, 1000]}\n",
    "Ridge_Regression = Ridge(solver='auto', random_state=1)\n",
    "GridSearch = GridSearchCV(Ridge_Regression, param_grid=hyper_param, scoring='neg_mean_squared_error', cv=5)\n",
    "GridSearchCV_technique = GridSearch.fit(X_train, y_train)\n",
    "print('Best Score --->',-GridSearchCV_technique.best_score_)\n",
    "print('Best parameter --->',GridSearchCV_technique.best_params_)"
   ]
  },
  {
   "cell_type": "code",
   "execution_count": 46,
   "id": "b14aa2bc",
   "metadata": {
    "ExecuteTime": {
     "end_time": "2022-08-31T17:50:18.384888Z",
     "start_time": "2022-08-31T17:50:14.593785Z"
    }
   },
   "outputs": [
    {
     "name": "stdout",
     "output_type": "stream",
     "text": [
      "Best Score ---> 540932865.4190556\n",
      "Best parameter ---> {'alpha': 160}\n"
     ]
    }
   ],
   "source": [
    "#Fine tuning Lambda/alpha as the hyper parameter. (Round 2)\n",
    "hyper_param = {'alpha':[10, 20, 30, 40, 50, 60, 70, 80, 90, 100, 110, 120, 130, 140, 150, 160, 170, 180, 190, 200]}\n",
    "Ridge_Regression = Ridge(solver='auto', random_state=1)\n",
    "GridSearch = GridSearchCV(Ridge_Regression, param_grid=hyper_param, scoring='neg_mean_squared_error', cv=5)\n",
    "GridSearchCV_technique = GridSearch.fit(X_train, y_train)\n",
    "print('Best Score --->',-GridSearchCV_technique.best_score_)\n",
    "print('Best parameter --->',GridSearchCV_technique.best_params_)"
   ]
  },
  {
   "cell_type": "code",
   "execution_count": 47,
   "id": "c60eedaf",
   "metadata": {
    "ExecuteTime": {
     "end_time": "2022-08-31T17:50:22.212386Z",
     "start_time": "2022-08-31T17:50:18.390226Z"
    }
   },
   "outputs": [
    {
     "name": "stdout",
     "output_type": "stream",
     "text": [
      "Best Score ---> 540932677.0529917\n",
      "Best parameter ---> {'alpha': 159}\n"
     ]
    }
   ],
   "source": [
    "#Fine tuning Lambda/alpha as the hyper parameter. (Round 3)\n",
    "hyper_param = {'alpha':[151, 152, 153, 154, 155, 156, 157, 158, 159, 160, 161, 162, 163, 164, 165, 166, 167, 168, 169, 170]}\n",
    "Ridge_Regression = Ridge(solver='auto', random_state=1)\n",
    "GridSearch = GridSearchCV(Ridge_Regression, param_grid=hyper_param, scoring='neg_mean_squared_error', cv=5)\n",
    "GridSearchCV_technique = GridSearch.fit(X_train, y_train)\n",
    "print('Best Score --->',-GridSearchCV_technique.best_score_)\n",
    "print('Best parameter --->',GridSearchCV_technique.best_params_)"
   ]
  },
  {
   "cell_type": "code",
   "execution_count": 48,
   "id": "31dadaa2",
   "metadata": {
    "ExecuteTime": {
     "end_time": "2022-08-31T17:50:23.546170Z",
     "start_time": "2022-08-31T17:50:22.216565Z"
    }
   },
   "outputs": [
    {
     "name": "stdout",
     "output_type": "stream",
     "text": [
      "--------------------Training Performance Ridge--------------------\n",
      "\n",
      "R2-Score on Training set ---> 0.93\n",
      "Residual Sum of Squares (RSS) on Training set  ---> 247092454273.27\n",
      "Mean Absolute Error (MAE) on Training set      ---> 11894.8\n",
      "Mean Squared Error (MSE) on Training set       ---> 295565136.69\n",
      "Root Mean Squared Error (RMSE) on Training set ---> 17192.01\n",
      "\n",
      "--------------------Testing Performance Ridge--------------------\n",
      "\n",
      "R2-Score on Testing set ---> 0.87\n",
      "Residual Sum of Squares (RSS) on Testing set  ---> 179743041719.73\n",
      "Mean Absolute Error (MAE) on Testing set      ---> 15134.34\n",
      "Mean Squared Error (MSE) on Testing set       ---> 500676996.43\n",
      "Root Mean Squared Error (RMSE) on Testing set ---> 22375.81\n",
      "\n",
      "--------------------Residual Plots--------------------\n"
     ]
    },
    {
     "data": {
      "image/png": "[encoded data removed]",
      "text/plain": [
       "<Figure size 1080x360 with 2 Axes>"
      ]
     },
     "metadata": {
      "needs_background": "light"
     },
     "output_type": "display_data"
    }
   ],
   "source": [
    "#Training the final Ridge Regression Model\n",
    "Ridge_Regression = Ridge(alpha=159, solver='auto', random_state=1) #Optimal lamda/alpha value\n",
    "Ridge_Regression.fit(X_train, y_train)\n",
    "y_pred_train = Ridge_Regression.predict(X_train)\n",
    "y_pred_test = Ridge_Regression.predict(X_test)\n",
    "\n",
    "print(f\"{'-'*20}Training Performance Ridge{'-'*20}\")\n",
    "print('\\nR2-Score on Training set --->',round(r2_score(y_train, y_pred_train),2))\n",
    "print('Residual Sum of Squares (RSS) on Training set  --->',round(np.sum(np.square(y_train - y_pred_train)),2))\n",
    "print('Mean Absolute Error (MAE) on Training set      --->',round(mean_absolute_error(y_train, y_pred_train),2))\n",
    "print('Mean Squared Error (MSE) on Training set       --->',round(mean_squared_error(y_train, y_pred_train),2))\n",
    "print('Root Mean Squared Error (RMSE) on Training set --->',round((mean_squared_error(y_train, y_pred_train)**0.5),2))\n",
    "\n",
    "print(f\"\\n{'-'*20}Testing Performance Ridge{'-'*20}\")\n",
    "print('\\nR2-Score on Testing set --->',round(r2_score(y_test, y_pred_test),2))\n",
    "print('Residual Sum of Squares (RSS) on Testing set  --->',round(np.sum(np.square(y_test - y_pred_test)),2))\n",
    "print('Mean Absolute Error (MAE) on Testing set      --->',round(mean_absolute_error(y_test, y_pred_test),2))\n",
    "print('Mean Squared Error (MSE) on Testing set       --->',round(mean_squared_error(y_test, y_pred_test),2))\n",
    "print('Root Mean Squared Error (RMSE) on Testing set --->',round((mean_squared_error(y_test, y_pred_test)**0.5),2))\n",
    "print('\\n{}Residual Plots{}'.format('-'*20, '-'*20))\n",
    "\n",
    "plt.figure(figsize=[15,5])\n",
    "plt.subplot(1,2,1)\n",
    "residuals=(y_test - y_pred_test)\n",
    "sns.distplot(residuals)\n",
    "\n",
    "plt.subplot(1,2,2)\n",
    "sns.scatterplot(y_pred_test, residuals)\n",
    "plt.axhline(y=0, color='r', linestyle='--')\n",
    "plt.tight_layout()\n",
    "plt.show()"
   ]
  },
  {
   "cell_type": "code",
   "execution_count": 49,
   "id": "f7c44e7d",
   "metadata": {
    "ExecuteTime": {
     "end_time": "2022-08-31T17:50:23.594132Z",
     "start_time": "2022-08-31T17:50:23.551076Z"
    }
   },
   "outputs": [
    {
     "data": {
      "text/html": [
       "<div>\n",
       "<style scoped>\n",
       "    .dataframe tbody tr th:only-of-type {\n",
       "        vertical-align: middle;\n",
       "    }\n",
       "\n",
       "    .dataframe tbody tr th {\n",
       "        vertical-align: top;\n",
       "    }\n",
       "\n",
       "    .dataframe thead th {\n",
       "        text-align: right;\n",
       "    }\n",
       "</style>\n",
       "<table border=\"1\" class=\"dataframe\">\n",
       "  <thead>\n",
       "    <tr style=\"text-align: right;\">\n",
       "      <th></th>\n",
       "      <th>Contribution</th>\n",
       "    </tr>\n",
       "  </thead>\n",
       "  <tbody>\n",
       "    <tr>\n",
       "      <th>GrLivArea</th>\n",
       "      <td>8917.198328</td>\n",
       "    </tr>\n",
       "    <tr>\n",
       "      <th>OverallQual</th>\n",
       "      <td>7310.905761</td>\n",
       "    </tr>\n",
       "    <tr>\n",
       "      <th>1stFlrSF</th>\n",
       "      <td>7061.070494</td>\n",
       "    </tr>\n",
       "    <tr>\n",
       "      <th>TotalBsmtSF</th>\n",
       "      <td>7017.258087</td>\n",
       "    </tr>\n",
       "    <tr>\n",
       "      <th>BsmtQual_Ex</th>\n",
       "      <td>6371.150219</td>\n",
       "    </tr>\n",
       "    <tr>\n",
       "      <th>...</th>\n",
       "      <td>...</td>\n",
       "    </tr>\n",
       "    <tr>\n",
       "      <th>BsmtExposure_No</th>\n",
       "      <td>-2282.631173</td>\n",
       "    </tr>\n",
       "    <tr>\n",
       "      <th>KitchenQual_Gd</th>\n",
       "      <td>-2584.811947</td>\n",
       "    </tr>\n",
       "    <tr>\n",
       "      <th>KitchenAbvGr</th>\n",
       "      <td>-2876.513180</td>\n",
       "    </tr>\n",
       "    <tr>\n",
       "      <th>KitchenQual_TA</th>\n",
       "      <td>-2901.545669</td>\n",
       "    </tr>\n",
       "    <tr>\n",
       "      <th>ExterQual_TA</th>\n",
       "      <td>-2902.252478</td>\n",
       "    </tr>\n",
       "  </tbody>\n",
       "</table>\n",
       "<p>262 rows × 1 columns</p>\n",
       "</div>"
      ],
      "text/plain": [
       "                 Contribution\n",
       "GrLivArea         8917.198328\n",
       "OverallQual       7310.905761\n",
       "1stFlrSF          7061.070494\n",
       "TotalBsmtSF       7017.258087\n",
       "BsmtQual_Ex       6371.150219\n",
       "...                       ...\n",
       "BsmtExposure_No  -2282.631173\n",
       "KitchenQual_Gd   -2584.811947\n",
       "KitchenAbvGr     -2876.513180\n",
       "KitchenQual_TA   -2901.545669\n",
       "ExterQual_TA     -2902.252478\n",
       "\n",
       "[262 rows x 1 columns]"
      ]
     },
     "execution_count": 49,
     "metadata": {},
     "output_type": "execute_result"
    }
   ],
   "source": [
    "coeff = pd.DataFrame(Ridge_Regression.coef_, X_train.columns, columns=['Contribution']).sort_values(by=['Contribution'],ascending=False)\n",
    "coeff = coeff[coeff.Contribution!=0]\n",
    "coeff"
   ]
  },
  {
   "cell_type": "markdown",
   "id": "fc899af5",
   "metadata": {},
   "source": [
    "#### Optimizing Lasso  Model"
   ]
  },
  {
   "cell_type": "code",
   "execution_count": 50,
   "id": "25812b3a",
   "metadata": {
    "ExecuteTime": {
     "end_time": "2022-08-31T17:50:33.448774Z",
     "start_time": "2022-08-31T17:50:23.605609Z"
    }
   },
   "outputs": [
    {
     "name": "stdout",
     "output_type": "stream",
     "text": [
      "Best Score ---> 514716009.0642689\n",
      "Best parameter ---> {'alpha': 1000}\n"
     ]
    }
   ],
   "source": [
    "#Fine tuning Lambda/alpha as the hyper parameter. (Round 1)\n",
    "hyper_param = {'alpha':[0.0001, 0.001, 0.01, 0.1, 1, 10, 100, 1000, 10000]}\n",
    "Lasso_Regression = Lasso()\n",
    "GridSearch = GridSearchCV(Lasso_Regression, param_grid=hyper_param, scoring='neg_mean_squared_error', cv=5)\n",
    "GridSearchCV_technique = GridSearch.fit(X_train, y_train)\n",
    "print('Best Score --->',-GridSearchCV_technique.best_score_)\n",
    "print('Best parameter --->',GridSearchCV_technique.best_params_)"
   ]
  },
  {
   "cell_type": "code",
   "execution_count": 51,
   "id": "ba9170ac",
   "metadata": {
    "ExecuteTime": {
     "end_time": "2022-08-31T17:50:41.654034Z",
     "start_time": "2022-08-31T17:50:33.451767Z"
    }
   },
   "outputs": [
    {
     "name": "stdout",
     "output_type": "stream",
     "text": [
      "Best Score ---> 509528458.1623683\n",
      "Best parameter ---> {'alpha': 600}\n"
     ]
    }
   ],
   "source": [
    "#Fine tuning Lambda/alpha as the hyper parameter. (Round 2)\n",
    "hyper_param = {'alpha':[100, 200, 300, 400, 500, 600, 700, 800, 900, 1000, \n",
    "                        1100, 1200, 1300, 1400, 1500, 1600, 1700, 1800, 1900, 2000]}\n",
    "Lasso_Regression = Lasso()\n",
    "GridSearch = GridSearchCV(Lasso_Regression, param_grid=hyper_param, scoring='neg_mean_squared_error', cv=5)\n",
    "GridSearchCV_technique = GridSearch.fit(X_train, y_train)\n",
    "print('Best Score --->',-GridSearchCV_technique.best_score_)\n",
    "print('Best parameter --->',GridSearchCV_technique.best_params_)"
   ]
  },
  {
   "cell_type": "code",
   "execution_count": 52,
   "id": "c12d13d3",
   "metadata": {
    "ExecuteTime": {
     "end_time": "2022-08-31T17:50:49.892787Z",
     "start_time": "2022-08-31T17:50:41.668099Z"
    }
   },
   "outputs": [
    {
     "name": "stdout",
     "output_type": "stream",
     "text": [
      "Best Score ---> 509099899.98630476\n",
      "Best parameter ---> {'alpha': 560}\n"
     ]
    }
   ],
   "source": [
    "#Fine tuning Lambda/alpha as the hyper parameter. (Round 3)\n",
    "hyper_param = {'alpha':[510, 520, 540, 550, 560, 570, 580, 590, 600, 610, 620, 630, 640, 650, 660, 670, 680, 690, 700]}\n",
    "Lasso_Regression = Lasso()\n",
    "GridSearch = GridSearchCV(Lasso_Regression, param_grid=hyper_param, scoring='neg_mean_squared_error', cv=5)\n",
    "GridSearchCV_technique = GridSearch.fit(X_train, y_train)\n",
    "print('Best Score --->',-GridSearchCV_technique.best_score_)\n",
    "print('Best parameter --->',GridSearchCV_technique.best_params_)"
   ]
  },
  {
   "cell_type": "code",
   "execution_count": 53,
   "id": "c3da1c56",
   "metadata": {
    "ExecuteTime": {
     "end_time": "2022-08-31T17:50:51.586159Z",
     "start_time": "2022-08-31T17:50:49.895575Z"
    }
   },
   "outputs": [
    {
     "name": "stdout",
     "output_type": "stream",
     "text": [
      "--------------------Training Performance Lasso--------------------\n",
      "\n",
      "R2-Score on Training set ---> 0.93\n",
      "Residual Sum of Squares (RSS) on Training set  ---> 272223314661.5\n",
      "Mean Absolute Error (MAE) on Training set      ---> 12704.8\n",
      "Mean Squared Error (MSE) on Training set       ---> 325625974.48\n",
      "Root Mean Squared Error (RMSE) on Training set ---> 18045.11\n",
      "\n",
      "--------------------Testing Performance Lasso--------------------\n",
      "\n",
      "R2-Score on Testing set ---> 0.88\n",
      "Residual Sum of Squares (RSS) on Testing set  ---> 165602107174.55\n",
      "Mean Absolute Error (MAE) on Testing set      ---> 13992.38\n",
      "Mean Squared Error (MSE) on Testing set       ---> 461287206.61\n",
      "Root Mean Squared Error (RMSE) on Testing set ---> 21477.6\n",
      "\n",
      "--------------------Residual Plots--------------------\n"
     ]
    },
    {
     "data": {
      "image/png": "[encoded data removed]",
      "text/plain": [
       "<Figure size 1080x360 with 2 Axes>"
      ]
     },
     "metadata": {
      "needs_background": "light"
     },
     "output_type": "display_data"
    }
   ],
   "source": [
    "#Training the final Lasso Regression Model\n",
    "Lasso_Regression = Lasso(alpha=560) #Optimal lamda/alpha value\n",
    "Lasso_Regression.fit(X_train, y_train)\n",
    "y_pred_train = Lasso_Regression.predict(X_train)\n",
    "y_pred_test = Lasso_Regression.predict(X_test)\n",
    "\n",
    "print(f\"{'-'*20}Training Performance Lasso{'-'*20}\")\n",
    "print('\\nR2-Score on Training set --->',round(r2_score(y_train, y_pred_train),2))\n",
    "print('Residual Sum of Squares (RSS) on Training set  --->',round(np.sum(np.square(y_train - y_pred_train)),2))\n",
    "print('Mean Absolute Error (MAE) on Training set      --->',round(mean_absolute_error(y_train, y_pred_train),2))\n",
    "print('Mean Squared Error (MSE) on Training set       --->',round(mean_squared_error(y_train, y_pred_train),2))\n",
    "print('Root Mean Squared Error (RMSE) on Training set --->',round((mean_squared_error(y_train, y_pred_train)**0.5),2))\n",
    "\n",
    "print(f\"\\n{'-'*20}Testing Performance Lasso{'-'*20}\")\n",
    "print('\\nR2-Score on Testing set --->',round(r2_score(y_test, y_pred_test),2))\n",
    "print('Residual Sum of Squares (RSS) on Testing set  --->',round(np.sum(np.square(y_test - y_pred_test)),2))\n",
    "print('Mean Absolute Error (MAE) on Testing set      --->',round(mean_absolute_error(y_test, y_pred_test),2))\n",
    "print('Mean Squared Error (MSE) on Testing set       --->',round(mean_squared_error(y_test, y_pred_test),2))\n",
    "print('Root Mean Squared Error (RMSE) on Testing set --->',round((mean_squared_error(y_test, y_pred_test)**0.5),2))\n",
    "print('\\n{}Residual Plots{}'.format('-'*20, '-'*20))\n",
    "\n",
    "plt.figure(figsize=[15,5])\n",
    "plt.subplot(1,2,1)\n",
    "residuals=(y_test - y_pred_test)\n",
    "sns.distplot(residuals)\n",
    "\n",
    "plt.subplot(1,2,2)\n",
    "sns.scatterplot(y_pred_test, residuals)\n",
    "plt.axhline(y=0, color='r', linestyle='--')\n",
    "plt.tight_layout()\n",
    "plt.show()"
   ]
  },
  {
   "cell_type": "code",
   "execution_count": 54,
   "id": "831ae33d",
   "metadata": {
    "ExecuteTime": {
     "end_time": "2022-08-31T17:50:51.641990Z",
     "start_time": "2022-08-31T17:50:51.591218Z"
    }
   },
   "outputs": [
    {
     "data": {
      "text/html": [
       "<div>\n",
       "<style scoped>\n",
       "    .dataframe tbody tr th:only-of-type {\n",
       "        vertical-align: middle;\n",
       "    }\n",
       "\n",
       "    .dataframe tbody tr th {\n",
       "        vertical-align: top;\n",
       "    }\n",
       "\n",
       "    .dataframe thead th {\n",
       "        text-align: right;\n",
       "    }\n",
       "</style>\n",
       "<table border=\"1\" class=\"dataframe\">\n",
       "  <thead>\n",
       "    <tr style=\"text-align: right;\">\n",
       "      <th></th>\n",
       "      <th>Contribution</th>\n",
       "    </tr>\n",
       "  </thead>\n",
       "  <tbody>\n",
       "    <tr>\n",
       "      <th>GrLivArea</th>\n",
       "      <td>24414.164938</td>\n",
       "    </tr>\n",
       "    <tr>\n",
       "      <th>OverallQual</th>\n",
       "      <td>10696.027072</td>\n",
       "    </tr>\n",
       "    <tr>\n",
       "      <th>BsmtQual_Ex</th>\n",
       "      <td>8897.280924</td>\n",
       "    </tr>\n",
       "    <tr>\n",
       "      <th>TotalBsmtSF</th>\n",
       "      <td>8024.376768</td>\n",
       "    </tr>\n",
       "    <tr>\n",
       "      <th>YearBuilt</th>\n",
       "      <td>6444.474189</td>\n",
       "    </tr>\n",
       "    <tr>\n",
       "      <th>...</th>\n",
       "      <td>...</td>\n",
       "    </tr>\n",
       "    <tr>\n",
       "      <th>MSSubClass_160</th>\n",
       "      <td>-1767.571123</td>\n",
       "    </tr>\n",
       "    <tr>\n",
       "      <th>ExterQual_TA</th>\n",
       "      <td>-1968.830638</td>\n",
       "    </tr>\n",
       "    <tr>\n",
       "      <th>BsmtExposure_No</th>\n",
       "      <td>-2345.129605</td>\n",
       "    </tr>\n",
       "    <tr>\n",
       "      <th>MSSubClass_120</th>\n",
       "      <td>-2485.143489</td>\n",
       "    </tr>\n",
       "    <tr>\n",
       "      <th>KitchenAbvGr</th>\n",
       "      <td>-4271.363846</td>\n",
       "    </tr>\n",
       "  </tbody>\n",
       "</table>\n",
       "<p>122 rows × 1 columns</p>\n",
       "</div>"
      ],
      "text/plain": [
       "                 Contribution\n",
       "GrLivArea        24414.164938\n",
       "OverallQual      10696.027072\n",
       "BsmtQual_Ex       8897.280924\n",
       "TotalBsmtSF       8024.376768\n",
       "YearBuilt         6444.474189\n",
       "...                       ...\n",
       "MSSubClass_160   -1767.571123\n",
       "ExterQual_TA     -1968.830638\n",
       "BsmtExposure_No  -2345.129605\n",
       "MSSubClass_120   -2485.143489\n",
       "KitchenAbvGr     -4271.363846\n",
       "\n",
       "[122 rows x 1 columns]"
      ]
     },
     "execution_count": 54,
     "metadata": {},
     "output_type": "execute_result"
    }
   ],
   "source": [
    "coeff = pd.DataFrame(Lasso_Regression.coef_, X_train.columns, columns=['Contribution']).sort_values(by=['Contribution'],ascending=False)\n",
    "coeff = coeff[coeff.Contribution!=0]\n",
    "coeff"
   ]
  },
  {
   "cell_type": "markdown",
   "id": "39bcde27",
   "metadata": {},
   "source": [
    "## Conclusion"
   ]
  },
  {
   "cell_type": "code",
   "execution_count": 55,
   "id": "e79ef49c",
   "metadata": {
    "ExecuteTime": {
     "end_time": "2022-08-31T17:50:51.722105Z",
     "start_time": "2022-08-31T17:50:51.646418Z"
    }
   },
   "outputs": [
    {
     "name": "stdout",
     "output_type": "stream",
     "text": [
      "---------------------------------------------------------------------------------------------------- \n",
      "\n",
      "\u001b[1mThe project aims to create predictive model for the housing company, in order to predict the sales price for US-based houses based on various criterion, with the help of sample data collected. Based on the optimal predictive model, The contribution of each feature is as follows:\n",
      "\n",
      "The featues that have the highest positive contribution for sales price are: \n",
      "\u001b[0m1. GrLivArea: Above grade (ground) living area square feet. \n",
      "2. OverallQual: Rates the overall material and finish of the house.\n",
      "3. BsmtQual_Ex: Evaluates the height quality of the basement\n",
      "\n",
      "\u001b[1mThe featues that have the highest negative contribution for sales price are: \n",
      "\u001b[0m1. KitchenAbvGr: Kitchens above grade.\n",
      "2. MSSubClass_120: 1-STORY PUD (Planned Unit Development) - 1946 & NEWER.\n",
      "3. BsmtExposure_No: No Basement.\n",
      "\n",
      "\n",
      "\u001b[1mWe derived that the various features towards increase in unit sales price:\n"
     ]
    },
    {
     "data": {
      "text/html": [
       "<div>\n",
       "<style scoped>\n",
       "    .dataframe tbody tr th:only-of-type {\n",
       "        vertical-align: middle;\n",
       "    }\n",
       "\n",
       "    .dataframe tbody tr th {\n",
       "        vertical-align: top;\n",
       "    }\n",
       "\n",
       "    .dataframe thead th {\n",
       "        text-align: right;\n",
       "    }\n",
       "</style>\n",
       "<table border=\"1\" class=\"dataframe\">\n",
       "  <thead>\n",
       "    <tr style=\"text-align: right;\">\n",
       "      <th></th>\n",
       "      <th>Contribution</th>\n",
       "    </tr>\n",
       "  </thead>\n",
       "  <tbody>\n",
       "    <tr>\n",
       "      <th>GrLivArea</th>\n",
       "      <td>24414.164938</td>\n",
       "    </tr>\n",
       "    <tr>\n",
       "      <th>OverallQual</th>\n",
       "      <td>10696.027072</td>\n",
       "    </tr>\n",
       "    <tr>\n",
       "      <th>BsmtQual_Ex</th>\n",
       "      <td>8897.280924</td>\n",
       "    </tr>\n",
       "    <tr>\n",
       "      <th>TotalBsmtSF</th>\n",
       "      <td>8024.376768</td>\n",
       "    </tr>\n",
       "    <tr>\n",
       "      <th>YearBuilt</th>\n",
       "      <td>6444.474189</td>\n",
       "    </tr>\n",
       "    <tr>\n",
       "      <th>...</th>\n",
       "      <td>...</td>\n",
       "    </tr>\n",
       "    <tr>\n",
       "      <th>MSSubClass_160</th>\n",
       "      <td>-1767.571123</td>\n",
       "    </tr>\n",
       "    <tr>\n",
       "      <th>ExterQual_TA</th>\n",
       "      <td>-1968.830638</td>\n",
       "    </tr>\n",
       "    <tr>\n",
       "      <th>BsmtExposure_No</th>\n",
       "      <td>-2345.129605</td>\n",
       "    </tr>\n",
       "    <tr>\n",
       "      <th>MSSubClass_120</th>\n",
       "      <td>-2485.143489</td>\n",
       "    </tr>\n",
       "    <tr>\n",
       "      <th>KitchenAbvGr</th>\n",
       "      <td>-4271.363846</td>\n",
       "    </tr>\n",
       "  </tbody>\n",
       "</table>\n",
       "<p>122 rows × 1 columns</p>\n",
       "</div>"
      ],
      "text/plain": [
       "                 Contribution\n",
       "GrLivArea        24414.164938\n",
       "OverallQual      10696.027072\n",
       "BsmtQual_Ex       8897.280924\n",
       "TotalBsmtSF       8024.376768\n",
       "YearBuilt         6444.474189\n",
       "...                       ...\n",
       "MSSubClass_160   -1767.571123\n",
       "ExterQual_TA     -1968.830638\n",
       "BsmtExposure_No  -2345.129605\n",
       "MSSubClass_120   -2485.143489\n",
       "KitchenAbvGr     -4271.363846\n",
       "\n",
       "[122 rows x 1 columns]"
      ]
     },
     "execution_count": 55,
     "metadata": {},
     "output_type": "execute_result"
    }
   ],
   "source": [
    "coeff = pd.DataFrame(Lasso_Regression.coef_, X_train.columns, columns=['Contribution']).sort_values(by=['Contribution'],ascending=False)\n",
    "coeff = coeff[coeff.Contribution!=0]\n",
    "\n",
    "print('-'*100,'\\n\\n\\033[1mThe project aims to create predictive model for the housing company, in order to predict the sales price for \\\n",
    "US-based houses based on various criterion, with the help of sample data collected. Based on the optimal predictive model, \\\n",
    "The contribution of each feature is as follows:')\n",
    "\n",
    "print('\\nThe featues that have the highest positive contribution for sales price are: \\n\\\n",
    "\\033[0m1. GrLivArea: Above grade (ground) living area square feet. \\n\\\n",
    "2. OverallQual: Rates the overall material and finish of the house.\\n\\\n",
    "3. BsmtQual_Ex: Evaluates the height quality of the basement')\n",
    "\n",
    "print('\\n\\033[1mThe featues that have the highest negative contribution for sales price are: \\n\\\n",
    "\\033[0m1. KitchenAbvGr: Kitchens above grade.\\n\\\n",
    "2. MSSubClass_120: 1-STORY PUD (Planned Unit Development) - 1946 & NEWER.\\n\\\n",
    "3. BsmtExposure_No: No Basement.')\n",
    "\n",
    "print('\\n\\n\\033[1mWe derived that the various features towards increase in unit sales price:')\n",
    "coeff"
   ]
  },
  {
   "cell_type": "markdown",
   "id": "a749dad0",
   "metadata": {},
   "source": [
    "## Subjective Questions"
   ]
  },
  {
   "cell_type": "code",
   "execution_count": 56,
   "id": "2d628c14",
   "metadata": {
    "ExecuteTime": {
     "end_time": "2022-08-31T17:50:51.747206Z",
     "start_time": "2022-08-31T17:50:51.727378Z"
    }
   },
   "outputs": [
    {
     "name": "stdout",
     "output_type": "stream",
     "text": [
      "Optimal Value for Ridge Ridge(alpha=159, random_state=1)\n",
      "Optimal Value for Lasso Lasso(alpha=560)\n"
     ]
    }
   ],
   "source": [
    "# 1. Optimal values\n",
    "print('Optimal Value for Ridge', Ridge_Regression)\n",
    "print('Optimal Value for Lasso', Lasso_Regression)"
   ]
  },
  {
   "cell_type": "code",
   "execution_count": 57,
   "id": "13a93a95",
   "metadata": {
    "ExecuteTime": {
     "end_time": "2022-08-31T17:50:53.236835Z",
     "start_time": "2022-08-31T17:50:51.751244Z"
    }
   },
   "outputs": [
    {
     "name": "stdout",
     "output_type": "stream",
     "text": [
      "--------------------Training Performance Ridge--------------------\n",
      "\n",
      "R2-Score on Training set ---> 0.93\n",
      "Residual Sum of Squares (RSS) on Training set  ---> 280020482299.31\n",
      "Mean Absolute Error (MAE) on Training set      ---> 12443.58\n",
      "Mean Squared Error (MSE) on Training set       ---> 334952730.02\n",
      "Root Mean Squared Error (RMSE) on Training set ---> 18301.71\n",
      "\n",
      "--------------------Testing Performance Ridge--------------------\n",
      "\n",
      "R2-Score on Testing set ---> 0.87\n",
      "Residual Sum of Squares (RSS) on Testing set  ---> 179322785004.53\n",
      "Mean Absolute Error (MAE) on Testing set      ---> 14990.57\n",
      "Mean Squared Error (MSE) on Testing set       ---> 499506364.92\n",
      "Root Mean Squared Error (RMSE) on Testing set ---> 22349.64\n",
      "\n",
      "--------------------Residual Plots--------------------\n"
     ]
    },
    {
     "data": {
      "image/png": "[encoded data removed]",
      "text/plain": [
       "<Figure size 1080x360 with 2 Axes>"
      ]
     },
     "metadata": {
      "needs_background": "light"
     },
     "output_type": "display_data"
    }
   ],
   "source": [
    "# Doubling the value of alpha for Ridge\n",
    "Ridge_Regression = Ridge(alpha=318, solver='auto', random_state=1) #Optimal lamda/alpha value\n",
    "Ridge_Regression.fit(X_train, y_train)\n",
    "y_pred_train = Ridge_Regression.predict(X_train)\n",
    "y_pred_test = Ridge_Regression.predict(X_test)\n",
    "\n",
    "print(f\"{'-'*20}Training Performance Ridge{'-'*20}\")\n",
    "print('\\nR2-Score on Training set --->',round(r2_score(y_train, y_pred_train),2))\n",
    "print('Residual Sum of Squares (RSS) on Training set  --->',round(np.sum(np.square(y_train - y_pred_train)),2))\n",
    "print('Mean Absolute Error (MAE) on Training set      --->',round(mean_absolute_error(y_train, y_pred_train),2))\n",
    "print('Mean Squared Error (MSE) on Training set       --->',round(mean_squared_error(y_train, y_pred_train),2))\n",
    "print('Root Mean Squared Error (RMSE) on Training set --->',round((mean_squared_error(y_train, y_pred_train)**0.5),2))\n",
    "\n",
    "print(f\"\\n{'-'*20}Testing Performance Ridge{'-'*20}\")\n",
    "print('\\nR2-Score on Testing set --->',round(r2_score(y_test, y_pred_test),2))\n",
    "print('Residual Sum of Squares (RSS) on Testing set  --->',round(np.sum(np.square(y_test - y_pred_test)),2))\n",
    "print('Mean Absolute Error (MAE) on Testing set      --->',round(mean_absolute_error(y_test, y_pred_test),2))\n",
    "print('Mean Squared Error (MSE) on Testing set       --->',round(mean_squared_error(y_test, y_pred_test),2))\n",
    "print('Root Mean Squared Error (RMSE) on Testing set --->',round((mean_squared_error(y_test, y_pred_test)**0.5),2))\n",
    "print('\\n{}Residual Plots{}'.format('-'*20, '-'*20))\n",
    "\n",
    "plt.figure(figsize=[15,5])\n",
    "plt.subplot(1,2,1)\n",
    "residuals=(y_test - y_pred_test)\n",
    "sns.distplot(residuals)\n",
    "\n",
    "plt.subplot(1,2,2)\n",
    "sns.scatterplot(y_pred_test, residuals)\n",
    "plt.axhline(y=0, color='r', linestyle='--')\n",
    "plt.tight_layout()\n",
    "plt.show()"
   ]
  },
  {
   "cell_type": "code",
   "execution_count": 58,
   "id": "5a2e9221",
   "metadata": {
    "ExecuteTime": {
     "end_time": "2022-08-31T17:50:53.296958Z",
     "start_time": "2022-08-31T17:50:53.246609Z"
    }
   },
   "outputs": [
    {
     "name": "stdout",
     "output_type": "stream",
     "text": [
      "---------------------------------------------------------------------------------------------------- \n",
      "\n",
      "\u001b[1mThe project aims to create predictive model for the housing company, in order to predict the sales price for US-based houses based on various criterion, with the help of sample data collected. Based on the optimal predictive model, The contribution of each feature is as follows:\n",
      "\n",
      "The featues that have the highest positive contribution for sales price are: \n",
      "\u001b[0m1. GrLivArea: Above grade (ground) living area square feet. \n",
      "2. OverallQual: Rates the overall material and finish of the house.\n",
      "3. 1stFlrSF: First Floor square feet\n",
      "\n",
      "\u001b[1mThe featues that have the highest negative contribution for sales price are: \n",
      "\u001b[0m1. ExterQual_TA: Average/Typical quality of the material on the exterior .\n",
      "2. KitchenAbvGr: Kitchen above ground floor.\n",
      "3. KitchenQual_TA: Typical/Average quality of kitchen.\n",
      "\n",
      "\n",
      "\u001b[1mWe derived that the various features towards increase in unit sales price:\n",
      "                      Contribution\n",
      "GrLivArea              7540.171399\n",
      "OverallQual            6677.637388\n",
      "1stFlrSF               6340.542170\n",
      "TotalBsmtSF            6247.467597\n",
      "BsmtQual_Ex            6067.908899\n",
      "...                            ...\n",
      "Neighborhood_Edwards  -1858.608755\n",
      "BsmtExposure_No       -2019.013289\n",
      "KitchenQual_TA        -2372.996985\n",
      "KitchenAbvGr          -2418.652275\n",
      "ExterQual_TA          -2574.375894\n",
      "\n",
      "[262 rows x 1 columns]\n"
     ]
    }
   ],
   "source": [
    "coeff = pd.DataFrame(Ridge_Regression.coef_, X_train.columns, columns=['Contribution']).sort_values(by=['Contribution'],ascending=False)\n",
    "coeff = coeff[coeff.Contribution!=0]\n",
    "\n",
    "print('-'*100,'\\n\\n\\033[1mThe project aims to create predictive model for the housing company, in order to predict the sales price for \\\n",
    "US-based houses based on various criterion, with the help of sample data collected. Based on the optimal predictive model, \\\n",
    "The contribution of each feature is as follows:')\n",
    "\n",
    "print('\\nThe featues that have the highest positive contribution for sales price are: \\n\\\n",
    "\\033[0m1. GrLivArea: Above grade (ground) living area square feet. \\n\\\n",
    "2. OverallQual: Rates the overall material and finish of the house.\\n\\\n",
    "3. 1stFlrSF: First Floor square feet')\n",
    "\n",
    "print('\\n\\033[1mThe featues that have the highest negative contribution for sales price are: \\n\\\n",
    "\\033[0m1. ExterQual_TA: Average/Typical quality of the material on the exterior .\\n\\\n",
    "2. KitchenAbvGr: Kitchen above ground floor.\\n\\\n",
    "3. KitchenQual_TA: Typical/Average quality of kitchen.')\n",
    "\n",
    "print('\\n\\n\\033[1mWe derived that the various features towards increase in unit sales price:')\n",
    "print(coeff)"
   ]
  },
  {
   "cell_type": "code",
   "execution_count": 59,
   "id": "f368f926",
   "metadata": {
    "ExecuteTime": {
     "end_time": "2022-08-31T17:50:55.186415Z",
     "start_time": "2022-08-31T17:50:53.300102Z"
    }
   },
   "outputs": [
    {
     "name": "stdout",
     "output_type": "stream",
     "text": [
      "--------------------Training Performance Ridge--------------------\n",
      "\n",
      "R2-Score on Training set ---> 0.91\n",
      "Residual Sum of Squares (RSS) on Training set  ---> 324676811412.0\n",
      "Mean Absolute Error (MAE) on Training set      ---> 13765.94\n",
      "Mean Squared Error (MSE) on Training set       ---> 388369391.64\n",
      "Root Mean Squared Error (RMSE) on Training set ---> 19707.09\n",
      "\n",
      "--------------------Testing Performance Ridge--------------------\n",
      "\n",
      "R2-Score on Testing set ---> 0.88\n",
      "Residual Sum of Squares (RSS) on Testing set  ---> 161462772962.25\n",
      "Mean Absolute Error (MAE) on Testing set      ---> 14230.55\n",
      "Mean Squared Error (MSE) on Testing set       ---> 449757027.75\n",
      "Root Mean Squared Error (RMSE) on Testing set ---> 21207.48\n",
      "\n",
      "--------------------Residual Plots--------------------\n"
     ]
    },
    {
     "data": {
      "image/png": "[encoded data removed]",
      "text/plain": [
       "<Figure size 1080x360 with 2 Axes>"
      ]
     },
     "metadata": {
      "needs_background": "light"
     },
     "output_type": "display_data"
    }
   ],
   "source": [
    "# Doubling the value of alpha for Lasso\n",
    "Lasso_Regression = Lasso(alpha=1120) #Optimal lamda/alpha value\n",
    "Lasso_Regression.fit(X_train, y_train)\n",
    "y_pred_train = Lasso_Regression.predict(X_train)\n",
    "y_pred_test = Lasso_Regression.predict(X_test)\n",
    "\n",
    "print(f\"{'-'*20}Training Performance Ridge{'-'*20}\")\n",
    "print('\\nR2-Score on Training set --->',round(r2_score(y_train, y_pred_train),2))\n",
    "print('Residual Sum of Squares (RSS) on Training set  --->',round(np.sum(np.square(y_train - y_pred_train)),2))\n",
    "print('Mean Absolute Error (MAE) on Training set      --->',round(mean_absolute_error(y_train, y_pred_train),2))\n",
    "print('Mean Squared Error (MSE) on Training set       --->',round(mean_squared_error(y_train, y_pred_train),2))\n",
    "print('Root Mean Squared Error (RMSE) on Training set --->',round((mean_squared_error(y_train, y_pred_train)**0.5),2))\n",
    "\n",
    "print(f\"\\n{'-'*20}Testing Performance Ridge{'-'*20}\")\n",
    "print('\\nR2-Score on Testing set --->',round(r2_score(y_test, y_pred_test),2))\n",
    "print('Residual Sum of Squares (RSS) on Testing set  --->',round(np.sum(np.square(y_test - y_pred_test)),2))\n",
    "print('Mean Absolute Error (MAE) on Testing set      --->',round(mean_absolute_error(y_test, y_pred_test),2))\n",
    "print('Mean Squared Error (MSE) on Testing set       --->',round(mean_squared_error(y_test, y_pred_test),2))\n",
    "print('Root Mean Squared Error (RMSE) on Testing set --->',round((mean_squared_error(y_test, y_pred_test)**0.5),2))\n",
    "print('\\n{}Residual Plots{}'.format('-'*20, '-'*20))\n",
    "\n",
    "plt.figure(figsize=[15,5])\n",
    "plt.subplot(1,2,1)\n",
    "residuals=(y_test - y_pred_test)\n",
    "sns.distplot(residuals)\n",
    "\n",
    "plt.subplot(1,2,2)\n",
    "sns.scatterplot(y_pred_test, residuals)\n",
    "plt.axhline(y=0, color='r', linestyle='--')\n",
    "plt.tight_layout()\n",
    "plt.show()"
   ]
  },
  {
   "cell_type": "code",
   "execution_count": 60,
   "id": "7669ce2d",
   "metadata": {
    "ExecuteTime": {
     "end_time": "2022-08-31T17:50:55.236349Z",
     "start_time": "2022-08-31T17:50:55.191502Z"
    }
   },
   "outputs": [
    {
     "name": "stdout",
     "output_type": "stream",
     "text": [
      "---------------------------------------------------------------------------------------------------- \n",
      "\n",
      "\u001b[1mThe project aims to create predictive model for the housing company, in order to predict the sales price for US-based houses based on various criterion, with the help of sample data collected. Based on the optimal predictive model, The contribution of each feature is as follows:\n",
      "\n",
      "The featues that have the highest positive contribution for sales price are: \n",
      "\u001b[0m1. GrLivArea: Above grade (ground) living area square feet. \n",
      "2. OverallQual: Rates the overall material and finish of the house.\n",
      "3. BsmtQual_Ex: Basement quality excellent\n",
      "\n",
      "\u001b[1mThe featues that have the highest negative contribution for sales price are: \n",
      "\u001b[0m1. KitchenAbvGr: Kitchen above ground floor .\n",
      "2. ExterQual_TA: Average quality of the material on the exterior.\n",
      "3. BldgType_TwnhsE: Typical/Average quality of kitchen.\n",
      "\n",
      "\n",
      "\u001b[1mWe derived that the various features towards increase in unit sales price:\n",
      "                 Contribution\n",
      "GrLivArea        23401.308861\n",
      "OverallQual      12453.541194\n",
      "BsmtQual_Ex       9340.639730\n",
      "TotalBsmtSF       7779.734309\n",
      "YearBuilt         6043.368648\n",
      "...                       ...\n",
      "Functional_Sev   -1238.139233\n",
      "BsmtExposure_No  -1570.450242\n",
      "BldgType_TwnhsE  -1811.310784\n",
      "ExterQual_TA     -2696.416663\n",
      "KitchenAbvGr     -4461.163212\n",
      "\n",
      "[70 rows x 1 columns]\n"
     ]
    }
   ],
   "source": [
    "coeff = pd.DataFrame(Lasso_Regression.coef_, X_train.columns, columns=['Contribution']).sort_values(by=['Contribution'],ascending=False)\n",
    "coeff = coeff[coeff.Contribution!=0]\n",
    "\n",
    "print('-'*100,'\\n\\n\\033[1mThe project aims to create predictive model for the housing company, in order to predict the sales price for \\\n",
    "US-based houses based on various criterion, with the help of sample data collected. Based on the optimal predictive model, \\\n",
    "The contribution of each feature is as follows:')\n",
    "\n",
    "print('\\nThe featues that have the highest positive contribution for sales price are: \\n\\\n",
    "\\033[0m1. GrLivArea: Above grade (ground) living area square feet. \\n\\\n",
    "2. OverallQual: Rates the overall material and finish of the house.\\n\\\n",
    "3. BsmtQual_Ex: Basement quality excellent')\n",
    "\n",
    "print('\\n\\033[1mThe featues that have the highest negative contribution for sales price are: \\n\\\n",
    "\\033[0m1. KitchenAbvGr: Kitchen above ground floor .\\n\\\n",
    "2. ExterQual_TA: Average quality of the material on the exterior.\\n\\\n",
    "3. BldgType_TwnhsE: Typical/Average quality of kitchen.')\n",
    "\n",
    "print('\\n\\n\\033[1mWe derived that the various features towards increase in unit sales price:')\n",
    "print(coeff)"
   ]
  },
  {
   "cell_type": "markdown",
   "id": "0b95f77b",
   "metadata": {},
   "source": [
    "Dropping 5 top features "
   ]
  },
  {
   "cell_type": "code",
   "execution_count": 61,
   "id": "01df2c64",
   "metadata": {
    "ExecuteTime": {
     "end_time": "2022-08-31T17:50:55.267239Z",
     "start_time": "2022-08-31T17:50:55.242487Z"
    }
   },
   "outputs": [],
   "source": [
    "X_train_t5 = X_train.drop(['GrLivArea','OverallQual','BsmtQual_Ex','TotalBsmtSF','YearBuilt'], axis=1)\n",
    "X_test_t5 = X_test.drop(['GrLivArea','OverallQual','BsmtQual_Ex','TotalBsmtSF','YearBuilt'], axis=1)"
   ]
  },
  {
   "cell_type": "code",
   "execution_count": 62,
   "id": "977a4b0c",
   "metadata": {
    "ExecuteTime": {
     "end_time": "2022-08-31T17:51:05.660318Z",
     "start_time": "2022-08-31T17:50:55.270336Z"
    }
   },
   "outputs": [
    {
     "name": "stdout",
     "output_type": "stream",
     "text": [
      "Best Score ---> 602494573.1292377\n",
      "Best parameter ---> {'alpha': 100}\n"
     ]
    }
   ],
   "source": [
    "#Fine tuning Lambda/alpha as the hyper parameter. (Round 1)\n",
    "hyper_param = {'alpha':[0.0001, 0.001, 0.01, 0.1, 1, 10, 100, 1000, 10000]}\n",
    "Lasso_Regression = Lasso()\n",
    "GridSearch = GridSearchCV(Lasso_Regression, param_grid=hyper_param, scoring='neg_mean_squared_error', cv=5)\n",
    "GridSearchCV_technique = GridSearch.fit(X_train_t5, y_train)\n",
    "print('Best Score --->',-GridSearchCV_technique.best_score_)\n",
    "print('Best parameter --->',GridSearchCV_technique.best_params_)"
   ]
  },
  {
   "cell_type": "code",
   "execution_count": 63,
   "id": "dde7ab44",
   "metadata": {
    "ExecuteTime": {
     "end_time": "2022-08-31T17:51:07.261917Z",
     "start_time": "2022-08-31T17:51:05.663311Z"
    }
   },
   "outputs": [
    {
     "name": "stdout",
     "output_type": "stream",
     "text": [
      "Best Score ---> 548429535.2569308\n",
      "Best parameter ---> {'alpha': 300}\n"
     ]
    }
   ],
   "source": [
    "#Fine tuning Lambda/alpha as the hyper parameter. (Round 2)\n",
    "hyper_param = {'alpha':[100, 200, 300, 400, 500]}\n",
    "Lasso_Regression = Lasso()\n",
    "GridSearch = GridSearchCV(Lasso_Regression, param_grid=hyper_param, scoring='neg_mean_squared_error', cv=5)\n",
    "GridSearchCV_technique = GridSearch.fit(X_train_t5, y_train)\n",
    "print('Best Score --->',-GridSearchCV_technique.best_score_)\n",
    "print('Best parameter --->',GridSearchCV_technique.best_params_)"
   ]
  },
  {
   "cell_type": "code",
   "execution_count": 64,
   "id": "1626a4ff",
   "metadata": {
    "ExecuteTime": {
     "end_time": "2022-08-31T17:51:12.794230Z",
     "start_time": "2022-08-31T17:51:07.267304Z"
    }
   },
   "outputs": [
    {
     "name": "stdout",
     "output_type": "stream",
     "text": [
      "Best Score ---> 547697174.8401839\n",
      "Best parameter ---> {'alpha': 340}\n"
     ]
    }
   ],
   "source": [
    "#Fine tuning Lambda/alpha as the hyper parameter. (Round 2)\n",
    "hyper_param = {'alpha':[250, 260, 270, 280, 290, 300, 310, 320, 330, 340, 350]}\n",
    "Lasso_Regression = Lasso()\n",
    "GridSearch = GridSearchCV(Lasso_Regression, param_grid=hyper_param, scoring='neg_mean_squared_error', cv=5)\n",
    "GridSearchCV_technique = GridSearch.fit(X_train_t5, y_train)\n",
    "print('Best Score --->',-GridSearchCV_technique.best_score_)\n",
    "print('Best parameter --->',GridSearchCV_technique.best_params_)"
   ]
  },
  {
   "cell_type": "code",
   "execution_count": 65,
   "id": "45c02eaf",
   "metadata": {
    "ExecuteTime": {
     "end_time": "2022-08-31T17:51:14.406708Z",
     "start_time": "2022-08-31T17:51:12.797374Z"
    }
   },
   "outputs": [
    {
     "name": "stdout",
     "output_type": "stream",
     "text": [
      "--------------------Training Performance Lasso--------------------\n",
      "\n",
      "R2-Score on Training set ---> 0.93\n",
      "Residual Sum of Squares (RSS) on Training set  ---> 254063965721.45\n",
      "Mean Absolute Error (MAE) on Training set      ---> 12488.68\n",
      "Mean Squared Error (MSE) on Training set       ---> 303904265.22\n",
      "Root Mean Squared Error (RMSE) on Training set ---> 17432.85\n",
      "\n",
      "--------------------Testing Performance Lasso--------------------\n",
      "\n",
      "R2-Score on Testing set ---> 0.86\n",
      "Residual Sum of Squares (RSS) on Testing set  ---> 197047887114.29\n",
      "Mean Absolute Error (MAE) on Testing set      ---> 15796.51\n",
      "Mean Squared Error (MSE) on Testing set       ---> 548879908.4\n",
      "Root Mean Squared Error (RMSE) on Testing set ---> 23428.19\n",
      "\n",
      "--------------------Residual Plots--------------------\n"
     ]
    },
    {
     "data": {
      "image/png": "[encoded data removed]",
      "text/plain": [
       "<Figure size 1080x360 with 2 Axes>"
      ]
     },
     "metadata": {
      "needs_background": "light"
     },
     "output_type": "display_data"
    }
   ],
   "source": [
    "#Training the final Lasso Regression Model\n",
    "Lasso_Regression = Lasso(alpha=340) #Optimal lamda/alpha value\n",
    "Lasso_Regression.fit(X_train_t5, y_train)\n",
    "y_pred_train = Lasso_Regression.predict(X_train_t5)\n",
    "y_pred_test = Lasso_Regression.predict(X_test_t5)\n",
    "\n",
    "print(f\"{'-'*20}Training Performance Lasso{'-'*20}\")\n",
    "print('\\nR2-Score on Training set --->',round(r2_score(y_train, y_pred_train),2))\n",
    "print('Residual Sum of Squares (RSS) on Training set  --->',round(np.sum(np.square(y_train - y_pred_train)),2))\n",
    "print('Mean Absolute Error (MAE) on Training set      --->',round(mean_absolute_error(y_train, y_pred_train),2))\n",
    "print('Mean Squared Error (MSE) on Training set       --->',round(mean_squared_error(y_train, y_pred_train),2))\n",
    "print('Root Mean Squared Error (RMSE) on Training set --->',round((mean_squared_error(y_train, y_pred_train)**0.5),2))\n",
    "\n",
    "print(f\"\\n{'-'*20}Testing Performance Lasso{'-'*20}\")\n",
    "print('\\nR2-Score on Testing set --->',round(r2_score(y_test, y_pred_test),2))\n",
    "print('Residual Sum of Squares (RSS) on Testing set  --->',round(np.sum(np.square(y_test - y_pred_test)),2))\n",
    "print('Mean Absolute Error (MAE) on Testing set      --->',round(mean_absolute_error(y_test, y_pred_test),2))\n",
    "print('Mean Squared Error (MSE) on Testing set       --->',round(mean_squared_error(y_test, y_pred_test),2))\n",
    "print('Root Mean Squared Error (RMSE) on Testing set --->',round((mean_squared_error(y_test, y_pred_test)**0.5),2))\n",
    "print('\\n{}Residual Plots{}'.format('-'*20, '-'*20))\n",
    "\n",
    "plt.figure(figsize=[15,5])\n",
    "plt.subplot(1,2,1)\n",
    "residuals=(y_test - y_pred_test)\n",
    "sns.distplot(residuals)\n",
    "\n",
    "plt.subplot(1,2,2)\n",
    "sns.scatterplot(y_pred_test, residuals)\n",
    "plt.axhline(y=0, color='r', linestyle='--')\n",
    "plt.tight_layout()\n",
    "plt.show()"
   ]
  },
  {
   "cell_type": "code",
   "execution_count": 66,
   "id": "048bc44f",
   "metadata": {
    "ExecuteTime": {
     "end_time": "2022-08-31T17:51:14.446564Z",
     "start_time": "2022-08-31T17:51:14.413912Z"
    }
   },
   "outputs": [
    {
     "name": "stdout",
     "output_type": "stream",
     "text": [
      "---------------------------------------------------------------------------------------------------- \n",
      "\n",
      "\u001b[1mThe project aims to create predictive model for the housing company, in order to predict the sales price for US-based houses based on various criterion, with the help of sample data collected. Based on the optimal predictive model, The contribution of each feature is as follows:\n",
      "\n",
      "The featues that have the highest positive contribution for sales price are: \n",
      "\u001b[0m1. GrLivArea: Above grade (ground) living area square feet. \n",
      "2. OverallQual: Rates the overall material and finish of the house.\n",
      "3. 1stFlrSF: First Floor square feet\n",
      "\n",
      "\u001b[1mThe featues that have the highest negative contribution for sales price are: \n",
      "\u001b[0m1. ExterQual_TA: Average/Typical quality of the material on the exterior .\n",
      "2. KitchenAbvGr: Kitchen above ground floor.\n",
      "3. KitchenQual_TA: Typical/Average quality of kitchen.\n",
      "\n",
      "\n",
      "\u001b[1mWe derived that the various features towards increase in unit sales price:\n",
      "                 Contribution\n",
      "2ndFlrSF         21358.254054\n",
      "1stFlrSF         18689.977615\n",
      "BsmtFinSF1       16059.328796\n",
      "BsmtUnfSF        10869.791020\n",
      "BsmtExposure_Gd   6889.697374\n",
      "...                       ...\n",
      "KitchenQual_TA   -5674.301907\n",
      "KitchenQual_Gd   -5723.608106\n",
      "ExterQual_TA     -8061.177060\n",
      "BsmtQual_TA     -10153.778721\n",
      "BsmtQual_Gd     -10343.909890\n",
      "\n",
      "[156 rows x 1 columns]\n"
     ]
    }
   ],
   "source": [
    "coeff = pd.DataFrame(Lasso_Regression.coef_, X_train_t5.columns, columns=['Contribution']).sort_values(by=['Contribution'],ascending=False)\n",
    "coeff = coeff[coeff.Contribution!=0]\n",
    "\n",
    "print('-'*100,'\\n\\n\\033[1mThe project aims to create predictive model for the housing company, in order to predict the sales price for \\\n",
    "US-based houses based on various criterion, with the help of sample data collected. Based on the optimal predictive model, \\\n",
    "The contribution of each feature is as follows:')\n",
    "\n",
    "print('\\nThe featues that have the highest positive contribution for sales price are: \\n\\\n",
    "\\033[0m1. GrLivArea: Above grade (ground) living area square feet. \\n\\\n",
    "2. OverallQual: Rates the overall material and finish of the house.\\n\\\n",
    "3. 1stFlrSF: First Floor square feet')\n",
    "\n",
    "print('\\n\\033[1mThe featues that have the highest negative contribution for sales price are: \\n\\\n",
    "\\033[0m1. ExterQual_TA: Average/Typical quality of the material on the exterior .\\n\\\n",
    "2. KitchenAbvGr: Kitchen above ground floor.\\n\\\n",
    "3. KitchenQual_TA: Typical/Average quality of kitchen.')\n",
    "\n",
    "print('\\n\\n\\033[1mWe derived that the various features towards increase in unit sales price:')\n",
    "print(coeff)"
   ]
  },
  {
   "cell_type": "code",
   "execution_count": null,
   "id": "4081bbc7",
   "metadata": {},
   "outputs": [],
   "source": []
  }
 ],
 "metadata": {
  "kernelspec": {
   "display_name": "Python 3",
   "language": "python",
   "name": "python3"
  },
  "language_info": {
   "codemirror_mode": {
    "name": "ipython",
    "version": 3
   },
   "file_extension": ".py",
   "mimetype": "text/x-python",
   "name": "python",
   "nbconvert_exporter": "python",
   "pygments_lexer": "ipython3",
   "version": "3.8.8"
  }
 },
 "nbformat": 4,
 "nbformat_minor": 5
}
